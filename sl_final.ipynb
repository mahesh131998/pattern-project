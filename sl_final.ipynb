{
  "nbformat": 4,
  "nbformat_minor": 0,
  "metadata": {
    "interpreter": {
      "hash": "6cd8bd74ef69522821253770afd7150a5632add34baf33b3aff44c5186478bb6"
    },
    "kernelspec": {
      "display_name": "Python 3.7.3 64-bit",
      "language": "python",
      "name": "python3"
    },
    "language_info": {
      "codemirror_mode": {
        "name": "ipython",
        "version": 3
      },
      "file_extension": ".py",
      "mimetype": "text/x-python",
      "name": "python",
      "nbconvert_exporter": "python",
      "pygments_lexer": "ipython3",
      "version": "3.7.3"
    },
    "orig_nbformat": 4,
    "colab": {
      "name": "sl.ipynb",
      "provenance": [],
      "collapsed_sections": []
    },
    "accelerator": "GPU"
  },
  "cells": [
    {
      "cell_type": "code",
      "metadata": {
        "id": "auyF3ir9vuJG"
      },
      "source": [
        "from __future__ import absolute_import\n",
        "from __future__ import print_function\n",
        "\n",
        "import os\n",
        "import time\n",
        "import numpy as np\n",
        "import keras.backend as K\n",
        "import argparse\n",
        "import tensorflow as tf\n",
        "from tensorflow.keras.utils import to_categorical\n",
        "from keras.preprocessing.image import ImageDataGenerator\n",
        "from keras.models import load_model\n",
        "from tensorflow.keras.optimizers import SGD\n",
        "from keras.callbacks import ModelCheckpoint\n",
        "import tensorflow as tf\n",
        "from keras.datasets import mnist\n",
        "from keras.layers import Input, Conv2D, Dense, MaxPooling2D, Dropout, Flatten, Activation, BatchNormalization\n",
        "import tensorflow as tf\n",
        "import keras.backend as K\n",
        "from keras.models import Model\n",
        "from keras.regularizers import l2\n",
        "from tensorflow.keras.applications.resnet50 import ResNet50\n",
        "from keras import backend as K\n",
        "from keras.callbacks import Callback, LearningRateScheduler\n",
        "from tensorflow.keras.metrics import AUC\n",
        "import numpy as np\n",
        "from keras.callbacks import LearningRateScheduler\n",
        "import cv2\n",
        "from imblearn.datasets import make_imbalance\n",
        "from sklearn.metrics import accuracy_score, confusion_matrix, precision_score, recall_score, roc_auc_score\n"
      ],
      "execution_count": 123,
      "outputs": []
    },
    {
      "cell_type": "code",
      "metadata": {
        "id": "qvPI9FgRvuJK"
      },
      "source": [
        "alpha = 1.0\n",
        "beta = 1.0\n",
        "noise_ratio=20\n",
        "epochs=1\n",
        "dataset='mnist'\n",
        "model_name='sl'\n",
        "batch_size=128\n",
        "dasm= False\n",
        "asym=False"
      ],
      "execution_count": 124,
      "outputs": []
    },
    {
      "cell_type": "code",
      "metadata": {
        "id": "aBGpgSBfvuJK"
      },
      "source": [
        "# prepare folders\n",
        "folders = ['data', 'model', 'log']\n",
        "for folder in folders:\n",
        "    path = os.path.join('./', folder)\n",
        "    if not os.path.exists(path):\n",
        "        os.makedirs(path)"
      ],
      "execution_count": 125,
      "outputs": []
    },
    {
      "cell_type": "code",
      "metadata": {
        "id": "wXW4xz7ZvuJL"
      },
      "source": [
        "(X_train, y_train_1), (X_test, y_test) = mnist.load_data()"
      ],
      "execution_count": 126,
      "outputs": []
    },
    {
      "cell_type": "code",
      "metadata": {
        "id": "wHgqHZ8xvuJL"
      },
      "source": [
        "\n",
        "if dasm:\n",
        "  X_train = X_train.reshape(-1,784)\n",
        "  X_train, y_tr = make_imbalance(X_train, y_train_1,\n",
        "                                sampling_strategy={0: 2550, 1: 6675, 2: 3280, 3: 6100, 4: 3850, 5: 5400, 6: 3065, 7: 5860, 8: 5000, 9: 3654,},\n",
        "                                random_state=42)\n",
        "else:\n",
        "  y_tr=y_train_1\n",
        "  \n"
      ],
      "execution_count": null,
      "outputs": []
    },
    {
      "cell_type": "code",
      "metadata": {
        "id": "zJOMwCfNvuJM"
      },
      "source": [
        "X_train = X_train.reshape(-1, 28, 28, 1)\n",
        "X_test = X_test.reshape(-1, 28, 28, 1)\n",
        "\n",
        "X_train = X_train / 255.0\n",
        "X_test = X_test / 255.0"
      ],
      "execution_count": 128,
      "outputs": []
    },
    {
      "cell_type": "code",
      "metadata": {
        "id": "HvlOjaqzvuJM"
      },
      "source": [
        "X_train = X_train.astype('float32')\n",
        "X_test = X_test.astype('float32')"
      ],
      "execution_count": 129,
      "outputs": []
    },
    {
      "cell_type": "code",
      "metadata": {
        "id": "qb7PoMn_vuJN"
      },
      "source": [
        "y_train_clean = np.copy(y_tr)"
      ],
      "execution_count": 130,
      "outputs": []
    },
    {
      "cell_type": "code",
      "metadata": {
        "id": "XA-YDNVsvuJO"
      },
      "source": [
        "def other_class(n_classes, current_class):\n",
        "    if current_class < 0 or current_class >= n_classes:\n",
        "        error_str = \"class_ind must be within the range (0, nb_classes - 1)\"\n",
        "        raise ValueError(error_str)\n",
        "\n",
        "    other_class_list = list(range(n_classes))\n",
        "    other_class_list.remove(current_class)\n",
        "    other_class = np.random.choice(other_class_list)\n",
        "    return other_class"
      ],
      "execution_count": 131,
      "outputs": []
    },
    {
      "cell_type": "code",
      "metadata": {
        "id": "YpDwhs4PvuJP"
      },
      "source": [
        "# y_train_clean = np.copy(y_train)\n",
        "if noise_ratio > 0:\n",
        "    if asym:\n",
        "            data_file = \"data/asym_%s_train_labels_%s.npy\" % (dataset, noise_ratio)\n",
        "    else:\n",
        "            data_file = \"data/%s_train_labels_%s.npy\" % (dataset, noise_ratio)\n",
        "    if os.path.isfile(data_file):\n",
        "            y_tr = np.load(data_file)\n",
        "    else:\n",
        "            if asym:\n",
        "                if dataset == 'mnist':\n",
        "                    # 1 < - 7, 2 -> 7, 3 -> 8, 5 <-> 6\n",
        "                    source_class = [7, 2, 3, 5, 6]\n",
        "                    target_class = [1, 7, 8, 6, 5]\n",
        "                if dataset == 'mnist' :\n",
        "                    for s, t in zip(source_class, target_class):\n",
        "                        cls_idx = np.where(y_train_clean == s)[0]\n",
        "                        n_noisy = int(noise_ratio * cls_idx.shape[0] / 100)\n",
        "                        noisy_sample_index = np.random.choice(cls_idx, n_noisy, replace=False)\n",
        "                        y_tr[noisy_sample_index] = t\n",
        "                        \n",
        "            else:\n",
        "                n_samples = y_tr.shape[0]\n",
        "                n_noisy = int(noise_ratio * n_samples / 100)\n",
        "                class_index = [np.where(y_train_clean == i)[0] for i in range(10)]\n",
        "                class_noisy = int(n_noisy / 10)\n",
        "\n",
        "                noisy_idx = []\n",
        "                for d in range(10):\n",
        "                    noisy_class_index = np.random.choice(class_index[d], class_noisy, replace=False)\n",
        "                    noisy_idx.extend(noisy_class_index)\n",
        "\n",
        "                for i in noisy_idx:\n",
        "                    y_tr[i] = other_class(n_classes=10, current_class=y_tr[i])\n",
        "            np.save(data_file, y_tr)\n",
        "\n",
        "    print(\"Print noisy label generation statistics:\")\n",
        "    for i in range(10):\n",
        "            n_noisy = np.sum(y_tr == i)\n",
        "            print(\"Noisy class %s, has %s samples.\" % (i, n_noisy))\n",
        "\n",
        "\n",
        "y_train_clean = to_categorical(y_train_clean, 10)\n",
        "y_tr = to_categorical(y_tr, 10)\n",
        "y_test =to_categorical(y_test, 10)\n",
        "\n",
        "print(\"y_train_clean:\", y_train_clean.shape)\n",
        "print(\"X_train:\", X_train.shape)\n",
        "print(\"y_train:\", y_tr.shape)\n",
        "print(\"X_test:\", X_test.shape)\n",
        "print(\"y_test\", y_test.shape)"
      ],
      "execution_count": null,
      "outputs": []
    },
    {
      "cell_type": "code",
      "metadata": {
        "id": "T1axbK9BvuJR"
      },
      "source": [
        "n_images = X_train.shape[0]\n",
        "image_shape = X_train.shape[1:]\n",
        "num_classes = y_tr.shape[1]\n",
        "print(\"n_images\", n_images, \"num_classes\", num_classes, \"image_shape:\", image_shape)"
      ],
      "execution_count": null,
      "outputs": []
    },
    {
      "cell_type": "code",
      "metadata": {
        "id": "K7YxySTKvuJR"
      },
      "source": [
        "# define P for forward and backward loss\n",
        "P = np.eye(num_classes)"
      ],
      "execution_count": 134,
      "outputs": []
    },
    {
      "cell_type": "code",
      "metadata": {
        "id": "JtGZlQoFvuJR"
      },
      "source": [
        "input_shape=image_shape\n",
        "img_input = Input(shape=input_shape)\n",
        "\n"
      ],
      "execution_count": 135,
      "outputs": []
    },
    {
      "cell_type": "code",
      "metadata": {
        "id": "wp-IjD5yvuJS"
      },
      "source": [
        "x = Conv2D(32, (3, 3), padding='same', kernel_initializer=\"he_normal\", name='conv1')(img_input)\n",
        "x = BatchNormalization()(x)\n",
        "x = Activation('relu')(x)\n",
        "x = MaxPooling2D((2, 2), strides=(2, 2), name='pool1')(x)\n",
        "\n",
        "x = Conv2D(64, (3, 3), padding='same', kernel_initializer=\"he_normal\", name='conv2')(x)\n",
        "x = BatchNormalization()(x)\n",
        "x = Activation('relu')(x)\n",
        "x = MaxPooling2D((2, 2), strides=(2, 2), name='pool2')(x)\n",
        "\n",
        "x = Flatten()(x)\n",
        "\n",
        "x = Dense(128, kernel_initializer=\"he_normal\", name='fc1')(x)\n",
        "x = BatchNormalization()(x)\n",
        "x = Activation('relu', name='lid')(x)\n",
        "# x = Dropout(0.2)(x)\n",
        "\n",
        "x = Dense(num_classes, kernel_initializer=\"he_normal\")(x)\n",
        "x = Activation(tf.nn.softmax)(x)\n",
        "\n",
        "model = Model(img_input, x)"
      ],
      "execution_count": 136,
      "outputs": []
    },
    {
      "cell_type": "code",
      "metadata": {
        "id": "6xveLVhPvuJS"
      },
      "source": [
        "optimizer = SGD(lr=0.1, decay=1e-4, momentum=0.9)"
      ],
      "execution_count": null,
      "outputs": []
    },
    {
      "cell_type": "code",
      "metadata": {
        "id": "3a55TuBovuJT"
      },
      "source": [
        "def symmetric_cross_entropy(alpha, beta):\n",
        "    def loss(y_true, y_pred):\n",
        "        y_true_1 = y_true\n",
        "        y_pred_1 = y_pred\n",
        "\n",
        "        y_true_2 = y_true\n",
        "        y_pred_2 = y_pred\n",
        "\n",
        "        y_pred_1 = tf.clip_by_value(y_pred_1, 1e-7, 1.0)\n",
        "        y_true_2 = tf.clip_by_value(y_true_2, 1e-4, 1.0)\n",
        "        # print(y_pred.numpy())\n",
        "        return alpha*tf.reduce_mean(-tf.reduce_sum(y_true_1 * tf.math.log(y_pred_1), axis = -1)) + beta*tf.reduce_mean(-tf.reduce_sum(y_pred_2 * tf.math.log(y_true_2), axis = -1))\n",
        "    return loss"
      ],
      "execution_count": 138,
      "outputs": []
    },
    {
      "cell_type": "code",
      "metadata": {
        "id": "tFaw8xcVzcX1"
      },
      "source": [
        "def symmetric_cross_entropy(alpha, beta):\n",
        "    def loss(y_true, y_pred):\n",
        "        y_true_1 = y_true\n",
        "        y_pred_1 = y_pred\n",
        "\n",
        "        y_true_2 = y_true\n",
        "        y_pred_2 = y_pred\n",
        "\n",
        "        y_pred_1 = tf.clip_by_value(y_pred_1, 1e-7, 1.0)\n",
        "        y_true_2 = tf.clip_by_value(y_true_2, 1e-4, 1.0)\n",
        "\n",
        "        return alpha*tf.reduce_mean(-tf.reduce_sum(y_true_1 * tf.math.log(y_pred_1), axis = -1)) + beta*tf.reduce_mean(-tf.reduce_sum(y_pred_2 * tf.math.log(y_true_2), axis = -1))\n",
        "    return loss"
      ],
      "execution_count": 139,
      "outputs": []
    },
    {
      "cell_type": "code",
      "metadata": {
        "id": "yGs2q5JFvuJT"
      },
      "source": [
        "\n",
        "loss = symmetric_cross_entropy(alpha,beta)\n"
      ],
      "execution_count": 140,
      "outputs": []
    },
    {
      "cell_type": "code",
      "metadata": {
        "id": "1lUI4k_C69ca"
      },
      "source": [
        "#################################################################################################\n",
        "def recall_m(y_true, y_pred):\n",
        "    true_positives = K.sum(K.round(K.clip(y_true * y_pred, 0, 1)))\n",
        "    possible_positives = K.sum(K.round(K.clip(y_true, 0, 1)))\n",
        "    recall = true_positives / (possible_positives + K.epsilon())\n",
        "    return recall\n",
        "\n",
        "def precision_m(y_true, y_pred):\n",
        "    true_positives = K.sum(K.round(K.clip(y_true * y_pred, 0, 1)))\n",
        "    predicted_positives = K.sum(K.round(K.clip(y_pred, 0, 1)))\n",
        "    precision = true_positives / (predicted_positives + K.epsilon())\n",
        "    return precision\n",
        "\n",
        "def f1_m(y_true, y_pred):\n",
        "    precision = precision_m(y_true, y_pred)\n",
        "    recall = recall_m(y_true, y_pred)\n",
        "    return 2*((precision*recall)/(precision+recall+K.epsilon()))"
      ],
      "execution_count": 141,
      "outputs": []
    },
    {
      "cell_type": "code",
      "metadata": {
        "id": "I28IKc66vuJT"
      },
      "source": [
        "# model ##########################################################\n",
        "model.compile(\n",
        "    loss=loss,\n",
        "    optimizer=optimizer,\n",
        "    metrics=['accuracy',f1_m,precision_m, recall_m,AUC()],\n",
        "    \n",
        ")"
      ],
      "execution_count": 142,
      "outputs": []
    },
    {
      "cell_type": "code",
      "metadata": {
        "id": "RcMt8xa6vuJU"
      },
      "source": [
        "# asym=False\n",
        "if asym:\n",
        "    model_save_file = \"model/asym_%s_%s_%s.{epoch:02d}.hdf5\" % ('sl','MNIST', 0)\n",
        "else:\n",
        "    model_save_file = \"model/%s_%s_%s.{epoch:02d}.hdf5\" % ('sl','MNIST', 0)"
      ],
      "execution_count": 143,
      "outputs": []
    },
    {
      "cell_type": "code",
      "metadata": {
        "id": "Rxulh3vfvuJU"
      },
      "source": [
        "## do real-time updates using callbakcs\n",
        "callbacks = []"
      ],
      "execution_count": 144,
      "outputs": []
    },
    {
      "cell_type": "code",
      "metadata": {
        "id": "VuPN0Q2xvuJU"
      },
      "source": [
        "cp_callback = ModelCheckpoint(model_save_file,\n",
        "                                monitor='val_loss',\n",
        "                                verbose=0,\n",
        "                                save_best_only=False,\n",
        "                                save_weights_only=True,\n",
        "                                period=1)\n",
        "callbacks.append(cp_callback)"
      ],
      "execution_count": null,
      "outputs": []
    },
    {
      "cell_type": "code",
      "metadata": {
        "id": "VDqtDz6mvuJV"
      },
      "source": [
        "# Set random seed\n",
        "np.random.seed(123)\n",
        "def get_lr_scheduler(dataset):\n",
        "    if dataset in ['mnist']:\n",
        "        def scheduler(epoch):\n",
        "            if epoch > 30:\n",
        "                return 0.001\n",
        "            elif epoch > 10:\n",
        "                return 0.01\n",
        "            else:\n",
        "                return 0.1\n",
        "        return LearningRateScheduler(scheduler)"
      ],
      "execution_count": 146,
      "outputs": []
    },
    {
      "cell_type": "code",
      "metadata": {
        "id": "Jy5FigKTvuJV"
      },
      "source": [
        "\n",
        "\n",
        "lr_scheduler = get_lr_scheduler('mnist')\n",
        "callbacks.append(lr_scheduler)"
      ],
      "execution_count": 147,
      "outputs": []
    },
    {
      "cell_type": "code",
      "metadata": {
        "id": "y32J2-9_vuJV"
      },
      "source": [
        "\n",
        "class LoggerCallback(Callback):\n",
        "    \"\"\"\n",
        "    Log train/val loss and acc into file for later plots.\n",
        "    \"\"\"\n",
        "    def __init__(self, model, X_train, y_tr, y_train_clean, X_test, y_test, dataset,\n",
        "                 model_name, noise_ratio, asym, epochs, alpha, beta):\n",
        "        super(LoggerCallback, self).__init__()\n",
        "        self.model = model\n",
        "        self.X_train = X_train\n",
        "        self.y_tr = y_tr\n",
        "        self.y_train_clean = y_train_clean\n",
        "        self.X_test = X_test\n",
        "        self.y_test = y_test\n",
        "        self.n_class = y_tr.shape[1]\n",
        "        self.dataset = dataset\n",
        "        self.model_name = model_name\n",
        "        self.noise_ratio = noise_ratio\n",
        "        self.asym = asym\n",
        "        self.epochs = epochs\n",
        "        self.alpha = alpha\n",
        "        self.beta = beta\n",
        "\n",
        "        self.train_loss = []\n",
        "        self.test_loss = []\n",
        "        self.train_acc = []\n",
        "        self.test_acc = []\n",
        "        self.train_loss_class = [None]*self.n_class\n",
        "        self.train_acc_class = [None]*self.n_class\n",
        "\n",
        "        # the followings are used to estimate LID\n",
        "        self.lid_k = 20\n",
        "        self.lid_subset = 128\n",
        "        self.lids = []\n",
        "\n",
        "        # complexity - Critical Sample Ratio (csr)\n",
        "        self.csr_subset = 500\n",
        "        self.csr_batchsize = 100\n",
        "        self.csrs = []\n",
        "\n",
        "    def on_epoch_end(self, epoch, logs={}):\n",
        "        tr_acc = logs.get('acc')\n",
        "        tr_loss = logs.get('loss')\n",
        "        val_loss = logs.get('val_loss')\n",
        "        val_acc = logs.get('val_acc')\n",
        "\n",
        "        self.train_loss.append(tr_loss)\n",
        "        self.test_loss.append(val_loss)\n",
        "        self.train_acc.append(tr_acc)\n",
        "        self.test_acc.append(val_acc)\n",
        "\n",
        "        print('ALL acc:', self.test_acc)\n",
        "\n",
        "        if self.asym:\n",
        "            file_name = 'log/asym_loss_%s_%s_%s.npy' % \\\n",
        "                        (self.model_name, self.dataset, self.noise_ratio)\n",
        "            np.save(file_name, np.stack((np.array(self.train_loss), np.array(self.test_loss))))\n",
        "            file_name = 'log/asym_acc_%s_%s_%s.npy' % \\\n",
        "                        (self.model_name, self.dataset, self.noise_ratio)\n",
        "            np.save(file_name, np.stack((np.array(self.train_acc), np.array(self.test_acc))))\n",
        "            file_name = 'log/asym_class_loss_%s_%s_%s.npy' % \\\n",
        "                        (self.model_name, self.dataset, self.noise_ratio)\n",
        "            np.save(file_name, np.array(self.train_loss_class))\n",
        "            file_name = 'log/asym_class_acc_%s_%s_%s.npy' % \\\n",
        "                        (self.model_name, self.dataset, self.noise_ratio)\n",
        "            np.save(file_name, np.array(self.train_acc_class))\n",
        "        else:\n",
        "            file_name = 'log/loss_%s_%s_%s_%s.npy' % \\\n",
        "                        (self.model_name, self.dataset, self.noise_ratio, self.alpha)\n",
        "            np.save(file_name, np.stack((np.array(self.train_loss), np.array(self.test_loss))))\n",
        "            file_name = 'log/acc_%s_%s_%s_%s.npy' % \\\n",
        "                        (self.model_name, self.dataset, self.noise_ratio, self.alpha)\n",
        "            np.save(file_name, np.stack((np.array(self.train_acc), np.array(self.test_acc))))\n",
        "\n",
        "        return\n",
        "\n",
        "\n",
        "class SGDLearningRateTracker(Callback):\n",
        "    def __init__(self, model):\n",
        "        super(SGDLearningRateTracker, self).__init__()\n",
        "        self.model = model\n",
        "\n",
        "    def on_epoch_begin(self, epoch, logs={}):\n",
        "        init_lr = float(K.get_value(self.model.optimizer.lr))\n",
        "        decay = float(K.get_value(self.model.optimizer.decay))\n",
        "        iterations = float(K.get_value(self.model.optimizer.iterations))\n",
        "        lr = init_lr * (1. / (1. + decay * iterations))\n",
        "        print('init lr: %.4f, current lr: %.4f, decay: %.4f, iterations: %s' % (init_lr, lr, decay, iterations))"
      ],
      "execution_count": 148,
      "outputs": []
    },
    {
      "cell_type": "code",
      "metadata": {
        "id": "ilfYPmBtvuJV"
      },
      "source": [
        "callbacks.append(SGDLearningRateTracker(model))"
      ],
      "execution_count": 149,
      "outputs": []
    },
    {
      "cell_type": "code",
      "metadata": {
        "id": "_Pj6ijt_vuJW"
      },
      "source": [
        "# acc, loss, lid\n",
        "log_callback = LoggerCallback(model, X_train, y_tr, y_train_clean, X_test, y_test, dataset, model_name, noise_ratio, asym, epochs, alpha, beta)\n",
        "callbacks.append(log_callback)"
      ],
      "execution_count": 150,
      "outputs": []
    },
    {
      "cell_type": "code",
      "metadata": {
        "id": "iktAeXlAvuJW"
      },
      "source": [
        "datagen = ImageDataGenerator()\n",
        "datagen.fit(X_train)"
      ],
      "execution_count": 151,
      "outputs": []
    },
    {
      "cell_type": "code",
      "metadata": {
        "id": "W8nx4HF0vuJW"
      },
      "source": [
        ""
      ],
      "execution_count": 151,
      "outputs": []
    },
    {
      "cell_type": "code",
      "metadata": {
        "id": "gGLTLd0avuJW"
      },
      "source": [
        "model.fit_generator(datagen.flow(X_train, y_tr, batch_size=batch_size),\n",
        "                        steps_per_epoch=len(X_train) / batch_size, epochs=epochs,\n",
        "                        validation_data=(X_test, y_test),\n",
        "                        verbose=1,\n",
        "                        callbacks=callbacks,\n",
        "                         \n",
        "                        )\n"
      ],
      "execution_count": null,
      "outputs": []
    },
    {
      "cell_type": "code",
      "metadata": {
        "colab": {
          "base_uri": "https://localhost:8080/"
        },
        "id": "dlOKHO8W7aYx",
        "outputId": "dfeab9ed-e21a-4d54-fa12-55aa4dee9e53"
      },
      "source": [
        "loss, accuracy, f1_score, precision, recall,auc = model.evaluate(X_test, y_test, verbose=0)\n",
        "print(\"Loss =\",loss,\"Accuracy =\", accuracy,\"f1 score =\", f1_score,\"Precission =\", precision,\"recall =\", recall,\"AUC score =\",auc)"
      ],
      "execution_count": 153,
      "outputs": [
        {
          "output_type": "stream",
          "name": "stdout",
          "text": [
            "Loss = 1.008489966392517 Accuracy = 0.9717000126838684 f1 score = 0.9700540900230408 Precission = 0.9813153743743896 recall = 0.9594648480415344 AUC score = 0.9990072250366211\n"
          ]
        }
      ]
    }
  ]
}