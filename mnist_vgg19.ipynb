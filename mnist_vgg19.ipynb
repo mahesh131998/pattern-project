{
  "cells": [
    {
      "cell_type": "code",
      "execution_count": null,
      "metadata": {
        "_cell_guid": "b1076dfc-b9ad-4769-8c92-a6c4dae69d19",
        "_uuid": "8f2839f25d086af736a60e9eeb907d3b93b6e0e5",
        "id": "ar-juIeyBxcz"
      },
      "outputs": [],
      "source": [
        "# This Python 3 environment comes with many helpful analytics libraries installed\n",
        "# It is defined by the kaggle/python docker image: https://github.com/kaggle/docker-python\n",
        "# For example, here's several helpful packages to load in \n",
        "\n",
        "import numpy as np # linear algebra\n",
        "import pandas as pd # data processing, CSV file I/O (e.g. pd.read_csv)\n",
        "from sklearn.datasets import fetch_openml\n",
        "\n",
        "\n",
        "import warnings\n",
        "warnings.filterwarnings('ignore')\n",
        "# Input data files are available in the \"../input/\" directory.\n",
        "# For example, running this (by clicking run or pressing Shift+Enter) will list all files under the input directory\n",
        "\n",
        "# import os\n",
        "# for dirname, _, filenames in os.walk('/kaggle/input'):\n",
        "#     for filename in filenames:\n",
        "#         print(os.path.join(dirname, filename))\n",
        "# os.listdir('../input/digit-recognizer')\n",
        "# Any results you write to the current directory are saved as output.\n",
        "mnist_dataset = fetch_openml('mnist_784', version=1, as_frame=True)"
      ]
    },
    {
      "cell_type": "code",
      "execution_count": null,
      "metadata": {
        "id": "JcvR83gRGbtR"
      },
      "outputs": [],
      "source": [
        "imbalance = False\n",
        "add_noise = True\n",
        "asym_noise = False\n",
        "noise_ratio = 10"
      ]
    },
    {
      "cell_type": "code",
      "execution_count": null,
      "metadata": {
        "id": "A6nvC41QCoDg"
      },
      "outputs": [],
      "source": [
        "from sklearn.model_selection import train_test_split\n",
        "mnist_dataframe = pd.DataFrame(data= np.c_[mnist_dataset['data'], mnist_dataset['target']],\n",
        "                     columns= mnist_dataset['feature_names'] + ['target'])\n",
        "print(mnist_dataframe.shape)\n",
        "X_tr = mnist_dataframe.iloc[:,:-1] # iloc ensures X_tr will be a dataframe\n",
        "y_tr = mnist_dataframe.iloc[:, -1]\n",
        "X_train, X_test, y_train, y_test = train_test_split(X_tr, y_tr, test_size=28000, stratify=y_tr)\n",
        "print(type(X_train), type(X_test), type(y_train), type(y_test))"
      ]
    },
    {
      "cell_type": "code",
      "execution_count": null,
      "metadata": {
        "_cell_guid": "79c7e3d0-c299-4dcb-8224-4455121ee9b0",
        "_uuid": "d629ff2d2480ee46fbb7e2d37f6b5fab8052498a",
        "id": "z0PJPtyhBxc2"
      },
      "outputs": [],
      "source": [
        "PATH = '../input/digit-recognizer'\n",
        "\n",
        "\n",
        "\n",
        "# df_train = pd.read_csv(os.path.join(PATH, 'train.csv'))\n",
        "# train_y = df_train['label'].values\n",
        "# train_x = df_train.drop(['label'], axis=1).values\n",
        "\n",
        "\n",
        "# df_test = pd.read_csv(os.path.join(PATH, 'test.csv'))\n",
        "# test_x = df_test.values\n",
        "train_x = X_train.values\n",
        "train_y = y_train.values\n",
        "test_x = X_test.values\n",
        "Y_Test = y_test.values\n",
        "\n",
        "print(train_x.shape)\n",
        "print(train_y.shape)\n",
        "print(test_x.shape)"
      ]
    },
    {
      "cell_type": "code",
      "execution_count": null,
      "metadata": {
        "id": "NRsCGlRlBxc3"
      },
      "outputs": [],
      "source": [
        "IMG_SIZE = 32\n",
        "# train_x = train_x.rename(columns={x:y for x,y in zip(train_x.columns,range(0,len(train_x.columns)))})\n",
        "# test_x = test_x.rename(columns={x:y for x,y in zip(test_x.columns,range(0,len(test_x.columns)))})\n",
        "# print(type(train_x), type(test_x))"
      ]
    },
    {
      "cell_type": "code",
      "execution_count": null,
      "metadata": {
        "id": "gDeqDv5dBxc3"
      },
      "outputs": [],
      "source": [
        "# resize\n",
        "import cv2\n",
        "\n",
        "def resize(img_array):\n",
        "    # print(img_array[])\n",
        "    tmp = np.empty((img_array.shape[0], IMG_SIZE, IMG_SIZE))\n",
        "\n",
        "    for i in range(len(img_array)):\n",
        "        img = img_array[i].reshape(28, 28).astype('uint8')\n",
        "        img = cv2.resize(img, (IMG_SIZE, IMG_SIZE))\n",
        "        img = img.astype('float32')/255\n",
        "        tmp[i] = img\n",
        "        \n",
        "    return tmp\n",
        "\n",
        "train_x_resize = resize(train_x)\n",
        "test_x_resize = resize(test_x)"
      ]
    },
    {
      "cell_type": "code",
      "execution_count": null,
      "metadata": {
        "id": "K341qjjzBxc4"
      },
      "outputs": [],
      "source": [
        "train_x_final = np.stack((train_x_resize,)*3, axis=-1)\n",
        "test_x_final = np.stack((test_x_resize,)*3, axis=-1)\n",
        "print(train_x_final.shape)\n",
        "print(test_x_final.shape)"
      ]
    },
    {
      "cell_type": "code",
      "execution_count": null,
      "metadata": {
        "id": "h-S3WwKdBxc4"
      },
      "outputs": [],
      "source": [
        "from tensorflow.keras.utils import to_categorical\n",
        "train_y_final = to_categorical(train_y, num_classes=10)\n",
        "test_y_final = to_categorical(Y_Test, num_classes=10)\n",
        "print(train_y_final.shape)\n",
        "print(test_y_final.shape)"
      ]
    },
    {
      "cell_type": "code",
      "execution_count": null,
      "metadata": {
        "id": "XE7ow8cJBxc5"
      },
      "outputs": [],
      "source": [
        "# models \n",
        "from keras.models import Sequential\n",
        "from tensorflow.keras.applications import VGG19\n",
        "from keras.layers import Dense, Flatten\n",
        "\n",
        "vgg19 = VGG19(weights = 'imagenet', \n",
        "              include_top = False,\n",
        "              input_shape=(IMG_SIZE, IMG_SIZE, 3)\n",
        "              )\n",
        "\n",
        "model = Sequential()\n",
        "model.add(vgg19)\n",
        "model.add(Flatten())\n",
        "model.add(Dense(10, activation='softmax'))\n",
        "model.compile(loss='categorical_crossentropy', \n",
        "              optimizer='sgd', \n",
        "              metrics=['accuracy'])\n",
        "\n",
        "model.summary()"
      ]
    },
    {
      "cell_type": "code",
      "execution_count": null,
      "metadata": {
        "id": "0HId0LbCQErf"
      },
      "outputs": [],
      "source": [
        "def noise_helper(n_classes, current_class):\n",
        "    if current_class < 0 or current_class >= n_classes:\n",
        "        error_str = \"class_ind must be within the range (0, nb_classes - 1)\"\n",
        "        raise ValueError(error_str)\n",
        "\n",
        "    other_class_list = list(range(n_classes))\n",
        "    other_class_list.remove(current_class)\n",
        "    other_class = np.random.choice(other_class_list)\n",
        "    return other_class\n",
        "\n",
        "def create_noise(y_tr, noise_ratio, asym = False):\n",
        "    if noise_ratio > 0:\n",
        "        dataset = 'mnist'\n",
        "        print(y_tr)\n",
        "        noisy_y_tr = np.array(y_tr, copy=True)\n",
        "        if asym:\n",
        "            if dataset == 'mnist':\n",
        "                # 1 < - 5, 2 -> 4, 3 -> 7, 5 <-> 6, 8 -> 9\n",
        "                source_class = [5, 2, 3, 5, 6, 8]\n",
        "                target_class = [1, 4, 7, 6, 5, 9]\n",
        "            if dataset == 'mnist' :\n",
        "                for s, t in zip(source_class, target_class):\n",
        "                    cls_idx = np.where(y_tr == s)[0]\n",
        "                    n_noisy = int(noise_ratio * cls_idx.shape[0] / 100)\n",
        "                    noisy_sample_index = np.random.choice(cls_idx, n_noisy, replace=False)\n",
        "                    noisy_y_tr[noisy_sample_index] = t\n",
        "        else:\n",
        "            n_samples = noisy_y_tr.shape[0]\n",
        "            n_noisy = int(noise_ratio * n_samples / 100)\n",
        "            class_index = [np.where(y_tr == i)[0] for i in range(10)]\n",
        "            class_noisy = int(n_noisy / 10)\n",
        "\n",
        "            noisy_idx = []\n",
        "            for d in range(10):\n",
        "                noisy_class_index = np.random.choice(class_index[d], class_noisy, replace=False)\n",
        "                noisy_idx.extend(noisy_class_index)\n",
        "\n",
        "            for i in noisy_idx:\n",
        "                noisy_y_tr[i] = noise_helper(n_classes=10, current_class=y_tr[i])\n",
        "\n",
        "        print(\"Print noisy label generation statistics:\")\n",
        "        count = 0\n",
        "        for i in range(10):\n",
        "                n_noisy = np.sum(noisy_y_tr == i)\n",
        "                print(\"Noisy class %s, has %s samples.\" % (i, n_noisy))\n",
        "                count += n_noisy\n",
        "        print(count)\n",
        "        return noisy_y_tr"
      ]
    },
    {
      "cell_type": "code",
      "execution_count": null,
      "metadata": {
        "id": "IKFTmKydBxc5"
      },
      "outputs": [],
      "source": [
        "from numpy.core.function_base import add_newdoc\n",
        "from sklearn.model_selection import train_test_split\n",
        "from imblearn.datasets import make_imbalance\n",
        "x_train, x_test, y_train, y_test = train_test_split(train_x_final, train_y_final, test_size=0.2, random_state=2019)\n",
        "print(x_train.shape)\n",
        "print(x_test.shape)\n",
        "print(y_train.shape)\n",
        "print(y_test.shape)\n",
        "\n"
      ]
    },
    {
      "cell_type": "code",
      "execution_count": null,
      "metadata": {
        "id": "rIS4PXQCVYa2"
      },
      "outputs": [],
      "source": [
        "# randomval = x_train.reshape(-1,3072,)\n",
        "# print(randomval.shape)\n",
        "\n",
        "if imbalance:\n",
        "    tem_x = x_train.reshape(-1,3072,)\n",
        "    tem_y = np.argmax(y_train, axis=-1)\n",
        "\n",
        "    print(tem_x.shape, tem_y.shape)\n",
        "    tem_x, tem_y = make_imbalance(tem_x, tem_y,\n",
        "                                sampling_strategy={0: 1000, 1: 2000, 2: 2500, 3: 2500, 4: 2000, 5: 1500, 6: 1000, 7: 3400, 8: 2000, 9: 1500,},\n",
        "                                random_state=42)\n",
        "    \n",
        "    x_train = tem_x.reshape(-1, 32, 32, 3)\n",
        "    y_train = to_categorical(tem_y, num_classes=10)\n",
        "\n",
        "if add_noise:\n",
        "    tem_y = np.argmax(y_train, axis=-1)\n",
        "    tem_y = create_noise(tem_y, noise_ratio, asym_noise)\n",
        "    y_train = to_categorical(tem_y, num_classes=10)"
      ]
    },
    {
      "cell_type": "code",
      "execution_count": null,
      "metadata": {
        "id": "1TLeBiGTXEFM"
      },
      "outputs": [],
      "source": [
        "print(x_train.shape, y_train.shape)"
      ]
    },
    {
      "cell_type": "code",
      "execution_count": null,
      "metadata": {
        "id": "qlfhWkkABxc6"
      },
      "outputs": [],
      "source": [
        "# callback\n",
        "from keras.callbacks import ModelCheckpoint, EarlyStopping\n",
        "es = EarlyStopping(monitor='val_acc', verbose=1, patience=5)\n",
        "mc = ModelCheckpoint(filepath='mnist-vgg19.h5', verbose=1, monitor='val_acc')\n",
        "cb = [es, mc]"
      ]
    },
    {
      "cell_type": "code",
      "execution_count": null,
      "metadata": {
        "id": "qKr9LkUVBxc7"
      },
      "outputs": [],
      "source": [
        "history = model.fit(x_train, y_train, \n",
        "                    epochs=1, \n",
        "                    batch_size=128, \n",
        "                    validation_data=(x_test, y_test),\n",
        "                    callbacks=cb)"
      ]
    },
    {
      "cell_type": "code",
      "execution_count": null,
      "metadata": {
        "id": "ns-Vn1YpBxc7"
      },
      "outputs": [],
      "source": [
        "preds = model.predict(test_x_final, batch_size=128)"
      ]
    },
    {
      "cell_type": "code",
      "execution_count": null,
      "metadata": {
        "id": "MtADzTTmBxc7"
      },
      "outputs": [],
      "source": [
        "preds.shape"
      ]
    },
    {
      "cell_type": "code",
      "execution_count": null,
      "metadata": {
        "id": "PQYTyWi7Bxc7"
      },
      "outputs": [],
      "source": [
        "results = np.argmax(preds, axis=-1)\n",
        "results.shape\n",
        "Y_TEST = np.argmax(test_y_final, axis=-1)\n",
        "Y_TEST.shape"
      ]
    },
    {
      "cell_type": "code",
      "execution_count": null,
      "metadata": {
        "id": "toBKkED5IXqD"
      },
      "outputs": [],
      "source": [
        "from sklearn.metrics import accuracy_score, confusion_matrix, precision_score, recall_score, roc_auc_score\n",
        "print(Y_TEST.shape, results.shape)\n",
        "print(\"confusion matrix: \\n \", confusion_matrix(Y_TEST, results))\n",
        "# print(y_test)\n",
        "# print(y_pred)\n",
        "print(\"Accuracy of the balanced dataset with symmetric noise is \\n\", accuracy_score(Y_TEST, results))\n",
        "print(\"Precision of the balanced dataset with symmetric noise is \\n\", precision_score(Y_TEST, results, average = None))\n",
        "print(\"Recall of the balanced dataset with symmetric noise is \", recall_score(Y_TEST, results, average = None))\n",
        "# cat_ypred = to_categorical(preds, 10)\n",
        "print(\"ROC AUC score of the balanced dataset with symmetric noise is \\n\", roc_auc_score(Y_TEST, preds, multi_class='ovr'))"
      ]
    }
  ],
  "metadata": {
    "accelerator": "GPU",
    "colab": {
      "collapsed_sections": [],
      "name": "mnist-vgg19.ipynb",
      "provenance": []
    },
    "kernelspec": {
      "display_name": "Python 3",
      "language": "python",
      "name": "python3"
    },
    "language_info": {
      "codemirror_mode": {
        "name": "ipython",
        "version": 3
      },
      "file_extension": ".py",
      "mimetype": "text/x-python",
      "name": "python",
      "nbconvert_exporter": "python",
      "pygments_lexer": "ipython3",
      "version": "3.6.6"
    }
  },
  "nbformat": 4,
  "nbformat_minor": 0
}
