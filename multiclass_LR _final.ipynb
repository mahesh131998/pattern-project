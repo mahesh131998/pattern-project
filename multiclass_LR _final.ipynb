{
  "nbformat": 4,
  "nbformat_minor": 0,
  "metadata": {
    "colab": {
      "name": "multiclass_LR.ipynb",
      "provenance": [],
      "collapsed_sections": []
    },
    "kernelspec": {
      "name": "python3",
      "display_name": "Python 3"
    },
    "language_info": {
      "name": "python"
    },
    "accelerator": "GPU"
  },
  "cells": [
    {
      "cell_type": "code",
      "metadata": {
        "id": "aUzCMNTfUxb2"
      },
      "source": [
        "import numpy as np\n",
        "import matplotlib.pyplot as plt\n",
        "from keras.datasets import mnist\n",
        "from imblearn.datasets import make_imbalance\n",
        "from tensorflow.keras.utils import to_categorical\n",
        "\n",
        "from sklearn.metrics import precision_score, recall_score, roc_auc_score, accuracy_score"
      ],
      "execution_count": 21,
      "outputs": []
    },
    {
      "cell_type": "code",
      "metadata": {
        "id": "70A_TtlrxrAZ"
      },
      "source": [
        "def countlabels(y_train):\n",
        "  count = 0\n",
        "  for i in range(10):\n",
        "          n_noisy = np.sum(y_train == i)\n",
        "          print(\"Class %s, has %s samples.\" % (i, n_noisy))\n",
        "          count += n_noisy\n",
        "  print(\"Total count \",count)"
      ],
      "execution_count": 22,
      "outputs": []
    },
    {
      "cell_type": "code",
      "metadata": {
        "id": "MnoOLuq2U6Zj"
      },
      "source": [
        "def sigmoid(z):\n",
        "  return 1 / (1+np.exp(-z)) "
      ],
      "execution_count": 23,
      "outputs": []
    },
    {
      "cell_type": "code",
      "metadata": {
        "id": "SLSieZK5VKCL"
      },
      "source": [
        "def cost(theta, x, y):\n",
        "  h = sigmoid(x @ theta)\n",
        "  m = len(y)\n",
        "  cost = 1 / m * np.sum( -y * np.log(h) - (1 - y) * np.log(1 - h))\n",
        "  grad = 1 / m * ((y - h) @ x)\n",
        "  return cost,grad"
      ],
      "execution_count": 24,
      "outputs": []
    },
    {
      "cell_type": "code",
      "metadata": {
        "id": "73Ntaj5ZWZe_"
      },
      "source": [
        "def fit(x, y, itr = 100, alpha = 0.25):\n",
        "  x = np.insert(x, 0, 1, axis = 1)\n",
        "  thetas=[]\n",
        "  classes = np.unique(y)\n",
        "  costs = np.zeros(itr)\n",
        "\n",
        "  for c in classes:\n",
        "    bin_y = np.where(y == c, 1, 0)\n",
        "    theta = np.zeros(x.shape[1])\n",
        "\n",
        "    for epoch in range(itr):\n",
        "      costs[epoch], grad = cost(theta, x, bin_y)\n",
        "      theta += alpha * grad\n",
        "\n",
        "    thetas.append(theta)\n",
        "\n",
        "  return thetas, classes, costs"
      ],
      "execution_count": 25,
      "outputs": []
    },
    {
      "cell_type": "code",
      "metadata": {
        "id": "M871Ix-oXLOh"
      },
      "source": [
        "def predict(classes, thetas, x, y):\n",
        "  x = np.insert(x, 0, 1, axis = 1)\n",
        "  preds = [np.argmax([sigmoid (xi @ theta) for theta in thetas]) for xi in x]\n",
        "  y_pred = [classes[p] for p in preds]\n",
        "  return y_pred\n",
        "  #'''(y_pred == y).mean(),'''"
      ],
      "execution_count": 26,
      "outputs": []
    },
    {
      "cell_type": "code",
      "metadata": {
        "id": "q99h_iOyZBFr"
      },
      "source": [
        "def score (classes, theta, x, y):\n",
        "  return (predict(classes, theta, x, y) == y).mean()"
      ],
      "execution_count": 27,
      "outputs": []
    },
    {
      "cell_type": "code",
      "metadata": {
        "id": "Aa3FchuEZC4W"
      },
      "source": [
        "def other_class(n_classes, current_class):\n",
        "    if current_class < 0 or current_class >= n_classes:\n",
        "        error_str = \"class_ind must be within the range (0, nb_classes - 1)\"\n",
        "        raise ValueError(error_str)\n",
        "\n",
        "    other_class_list = list(range(n_classes))\n",
        "    other_class_list.remove(current_class)\n",
        "    other_class = np.random.choice(other_class_list)\n",
        "    return other_class\n",
        "\n",
        "def create_noise(y_tr, noise_ratio, asym):\n",
        "  if noise_ratio > 0:\n",
        "      dataset = 'mnist'\n",
        "      noisy_y_tr = np.array(y_tr, copy = True)\n",
        "      if asym:\n",
        "          if dataset == 'mnist':\n",
        "              # 1 < - 5, 2 -> 4, 3 -> 7, 5 <-> 6, 8 -> 9\n",
        "              source_class = [5, 2, 3, 5, 6, 8]\n",
        "              target_class = [1, 4, 7, 6, 5, 9]\n",
        "          if dataset == 'mnist' :\n",
        "              for s, t in zip(source_class, target_class):\n",
        "                  cls_idx = np.where(y_tr == s)[0]\n",
        "                  n_noisy = int(noise_ratio * cls_idx.shape[0] / 100)\n",
        "                  noisy_sample_index = np.random.choice(cls_idx, n_noisy, replace=False)\n",
        "                  noisy_y_tr[noisy_sample_index] = t\n",
        "      else:\n",
        "          n_samples = noisy_y_tr.shape[0]\n",
        "          n_noisy = int(noise_ratio * n_samples / 100)\n",
        "          class_index = [np.where(y_tr == i)[0] for i in range(10)]\n",
        "          class_noisy = int(n_noisy / 10)\n",
        "\n",
        "          noisy_idx = []\n",
        "          for d in range(10):\n",
        "              noisy_class_index = np.random.choice(class_index[d], class_noisy, replace=False)\n",
        "              noisy_idx.extend(noisy_class_index)\n",
        "\n",
        "          for i in noisy_idx:\n",
        "              noisy_y_tr[i] = other_class(n_classes=10, current_class=y_tr[i])\n",
        "\n",
        "      print(\"Print noisy label generation statistics:\")\n",
        "      count = 0\n",
        "      for i in range(10):\n",
        "              n_noisy = np.sum(noisy_y_tr == i)\n",
        "              print(\"Noisy class %s, has %s samples.\" % (i, n_noisy))\n",
        "              count += n_noisy\n",
        "      print(count)\n",
        "      \n",
        "      return noisy_y_tr"
      ],
      "execution_count": 28,
      "outputs": []
    },
    {
      "cell_type": "code",
      "metadata": {
        "id": "99uAcOvMXoDp"
      },
      "source": [
        "(x_train, y_train), (x_test, y_test) = mnist.load_data()"
      ],
      "execution_count": 29,
      "outputs": []
    },
    {
      "cell_type": "code",
      "metadata": {
        "colab": {
          "base_uri": "https://localhost:8080/"
        },
        "id": "rA8HIZLyX-u6",
        "outputId": "682d7254-da3f-411a-b6fa-30f90993f4f1"
      },
      "source": [
        "print(x_train.shape)\n",
        "print(x_test.shape)"
      ],
      "execution_count": 30,
      "outputs": [
        {
          "output_type": "stream",
          "name": "stdout",
          "text": [
            "(60000, 28, 28)\n",
            "(10000, 28, 28)\n"
          ]
        }
      ]
    },
    {
      "cell_type": "code",
      "metadata": {
        "colab": {
          "base_uri": "https://localhost:8080/"
        },
        "id": "uEj4ICZ-XvVq",
        "outputId": "54a2891c-b9b4-4d93-91ed-66b39567b2ef"
      },
      "source": [
        "x_train=x_train.reshape(x_train.shape[0],-1)\n",
        "\n",
        "x_test=x_test.reshape(x_test.shape[0],-1)\n",
        "\n",
        "print(x_train.shape)\n",
        "print(x_test.shape)"
      ],
      "execution_count": 31,
      "outputs": [
        {
          "output_type": "stream",
          "name": "stdout",
          "text": [
            "(60000, 784)\n",
            "(10000, 784)\n"
          ]
        }
      ]
    },
    {
      "cell_type": "code",
      "metadata": {
        "id": "yU_fat2iZPix"
      },
      "source": [
        "imbx_tr, imby_tr = make_imbalance(x_train, y_train,\n",
        "                              sampling_strategy={0: 2550, 1: 6675, 2: 3280, 3: 6100, 4: 3850, 5: 5400, 6: 3065, 7: 5860, 8: 5000, 9: 3654,},\n",
        "                              random_state=42)"
      ],
      "execution_count": 32,
      "outputs": []
    },
    {
      "cell_type": "code",
      "metadata": {
        "colab": {
          "base_uri": "https://localhost:8080/"
        },
        "id": "vl004GKrZSWr",
        "outputId": "31eff535-51ec-4b58-e37d-e5f3972c02e3"
      },
      "source": [
        "print(imbx_tr.shape)\n",
        "print(imby_tr.shape)"
      ],
      "execution_count": 33,
      "outputs": [
        {
          "output_type": "stream",
          "name": "stdout",
          "text": [
            "(45434, 784)\n",
            "(45434,)\n"
          ]
        }
      ]
    },
    {
      "cell_type": "code",
      "metadata": {
        "colab": {
          "base_uri": "https://localhost:8080/"
        },
        "id": "fNwxHit4ZCw1",
        "outputId": "2387260c-eb59-4277-ea5f-6091b325bc85"
      },
      "source": [
        "sym_noisy_imbytr = create_noise(imby_tr, noise_ratio = 20, asym = False)"
      ],
      "execution_count": 34,
      "outputs": [
        {
          "output_type": "stream",
          "name": "stdout",
          "text": [
            "Print noisy label generation statistics:\n",
            "Noisy class 0, has 2562 samples.\n",
            "Noisy class 1, has 6697 samples.\n",
            "Noisy class 2, has 3256 samples.\n",
            "Noisy class 3, has 6124 samples.\n",
            "Noisy class 4, has 3857 samples.\n",
            "Noisy class 5, has 5431 samples.\n",
            "Noisy class 6, has 3036 samples.\n",
            "Noisy class 7, has 5874 samples.\n",
            "Noisy class 8, has 4980 samples.\n",
            "Noisy class 9, has 3617 samples.\n",
            "45434\n"
          ]
        }
      ]
    },
    {
      "cell_type": "code",
      "metadata": {
        "colab": {
          "base_uri": "https://localhost:8080/"
        },
        "id": "MEV2FWqietsy",
        "outputId": "4dcffc47-8363-4e6a-e683-3fc2797a94d6"
      },
      "source": [
        "asym_noisy_imbytr = create_noise(imby_tr, noise_ratio = 20, asym = True)"
      ],
      "execution_count": 35,
      "outputs": [
        {
          "output_type": "stream",
          "name": "stdout",
          "text": [
            "Print noisy label generation statistics:\n",
            "Noisy class 0, has 2550 samples.\n",
            "Noisy class 1, has 7532 samples.\n",
            "Noisy class 2, has 2624 samples.\n",
            "Noisy class 3, has 4880 samples.\n",
            "Noisy class 4, has 4506 samples.\n",
            "Noisy class 5, has 4076 samples.\n",
            "Noisy class 6, has 3532 samples.\n",
            "Noisy class 7, has 7080 samples.\n",
            "Noisy class 8, has 4000 samples.\n",
            "Noisy class 9, has 4654 samples.\n",
            "45434\n"
          ]
        }
      ]
    },
    {
      "cell_type": "code",
      "metadata": {
        "colab": {
          "base_uri": "https://localhost:8080/"
        },
        "id": "vzZhegT5etYr",
        "outputId": "4ed941d7-e3b5-4b6d-ed1f-0b26333f0f20"
      },
      "source": [
        "sym_noisy_ytr = create_noise(y_train, noise_ratio = 20, asym = False)"
      ],
      "execution_count": 36,
      "outputs": [
        {
          "output_type": "stream",
          "name": "stdout",
          "text": [
            "Print noisy label generation statistics:\n",
            "Noisy class 0, has 5970 samples.\n",
            "Noisy class 1, has 6741 samples.\n",
            "Noisy class 2, has 5971 samples.\n",
            "Noisy class 3, has 6086 samples.\n",
            "Noisy class 4, has 5865 samples.\n",
            "Noisy class 5, has 5442 samples.\n",
            "Noisy class 6, has 5947 samples.\n",
            "Noisy class 7, has 6206 samples.\n",
            "Noisy class 8, has 5833 samples.\n",
            "Noisy class 9, has 5939 samples.\n",
            "60000\n"
          ]
        }
      ]
    },
    {
      "cell_type": "code",
      "metadata": {
        "colab": {
          "base_uri": "https://localhost:8080/"
        },
        "id": "fpVjDM5VesrG",
        "outputId": "fe8a06ce-7b3a-4ed4-e67f-5095c6bed13b"
      },
      "source": [
        "asym_noisy_ytr = create_noise(y_train, noise_ratio = 20, asym = True)"
      ],
      "execution_count": 37,
      "outputs": [
        {
          "output_type": "stream",
          "name": "stdout",
          "text": [
            "Print noisy label generation statistics:\n",
            "Noisy class 0, has 5923 samples.\n",
            "Noisy class 1, has 7602 samples.\n",
            "Noisy class 2, has 4767 samples.\n",
            "Noisy class 3, has 4905 samples.\n",
            "Noisy class 4, has 7033 samples.\n",
            "Noisy class 5, has 4660 samples.\n",
            "Noisy class 6, has 5819 samples.\n",
            "Noisy class 7, has 7491 samples.\n",
            "Noisy class 8, has 4681 samples.\n",
            "Noisy class 9, has 7119 samples.\n",
            "60000\n"
          ]
        }
      ]
    },
    {
      "cell_type": "code",
      "metadata": {
        "colab": {
          "base_uri": "https://localhost:8080/"
        },
        "id": "v6OyLH6wxmVp",
        "outputId": "59e5eb3c-b050-466b-d46a-1e2c10135d51"
      },
      "source": [
        "countlabels(y_train)"
      ],
      "execution_count": 38,
      "outputs": [
        {
          "output_type": "stream",
          "name": "stdout",
          "text": [
            "Class 0, has 5923 samples.\n",
            "Class 1, has 6742 samples.\n",
            "Class 2, has 5958 samples.\n",
            "Class 3, has 6131 samples.\n",
            "Class 4, has 5842 samples.\n",
            "Class 5, has 5421 samples.\n",
            "Class 6, has 5918 samples.\n",
            "Class 7, has 6265 samples.\n",
            "Class 8, has 5851 samples.\n",
            "Class 9, has 5949 samples.\n",
            "Total count  60000\n"
          ]
        }
      ]
    },
    {
      "cell_type": "code",
      "metadata": {
        "id": "CzfXzyeMX_qA"
      },
      "source": [
        "x_train = x_train / 255.0\n",
        "x_test = x_test / 255.0\n",
        "\n",
        "imbx_tr = imbx_tr / 255.0"
      ],
      "execution_count": 39,
      "outputs": []
    },
    {
      "cell_type": "code",
      "metadata": {
        "colab": {
          "base_uri": "https://localhost:8080/"
        },
        "id": "CRG804oZY0ld",
        "outputId": "43fabd35-f015-4781-e1a1-c3a34229a06d"
      },
      "source": [
        "thetas, classes, costs = fit(x_train, y_train)\n",
        "\n",
        "\n",
        "print(f\"Train Accuracy: {score(classes, thetas, x_train, y_train):.3f}\")\n",
        "\n",
        "ypred = predict(classes, thetas, x_test, y_test)\n",
        "cat_ypred =to_categorical(ypred, 10)\n",
        "\n",
        "print(\"Accuracy of the balanced dataset is \\n\", accuracy_score(y_test, ypred))\n",
        "print(\"Precision of the balanced dataset is \\n\", precision_score(y_test, ypred, average = 'micro'))\n",
        "print(\"Recall of the balanced dataset is \\n\", recall_score(y_test, ypred, average = 'micro'))\n",
        "print(\"ROC AUC score of the balanced dataset is \\n\", roc_auc_score(y_test, cat_ypred, multi_class='ovr'))"
      ],
      "execution_count": 40,
      "outputs": [
        {
          "output_type": "stream",
          "name": "stdout",
          "text": [
            "Train Accuracy: 0.807\n",
            "Accuracy of the balanced dataset is \n",
            " 0.8187\n",
            "Precision of the balanced dataset is \n",
            " 0.8187\n",
            "Recall of the balanced dataset is \n",
            " 0.8187\n",
            "ROC AUC score of the balanced dataset is \n",
            " 0.8965186086286122\n"
          ]
        }
      ]
    },
    {
      "cell_type": "code",
      "metadata": {
        "colab": {
          "base_uri": "https://localhost:8080/"
        },
        "id": "hWgns-nefAkp",
        "outputId": "65809cfe-bc02-4faa-a137-f26610f8e271"
      },
      "source": [
        "thetas_sym, classes_sym, costs_sym = fit(x_train, sym_noisy_ytr)\n",
        "\n",
        "print(f\"Train Accuracy: {score(classes_sym, thetas_sym, x_train, sym_noisy_ytr):.3f}\")\n",
        "\n",
        "ypred = predict(classes_sym, thetas_sym, x_test, y_test)\n",
        "cat_ypred =to_categorical(ypred, 10)\n",
        "\n",
        "\n",
        "print(\"Accuracy of the balanced dataset with symmetric noise is \\n\", accuracy_score(y_test, ypred))\n",
        "print(\"Precision of the balanced dataset with symmetric noise is \\n\", precision_score(y_test, ypred, average = 'micro'))\n",
        "print(\"Recall of the balanced dataset with symmetric noise is \\n\", recall_score(y_test, ypred, average = 'micro'))\n",
        "print(\"ROC AUC score of the balanced dataset with symmetric noise is \\n\", roc_auc_score(y_test, cat_ypred, multi_class='ovr'))"
      ],
      "execution_count": 41,
      "outputs": [
        {
          "output_type": "stream",
          "name": "stdout",
          "text": [
            "Train Accuracy: 0.645\n",
            "Accuracy of the balanced dataset with symmetric noise is \n",
            " 0.8111\n",
            "Precision of the balanced dataset with symmetric noise is \n",
            " 0.8111\n",
            "Recall of the balanced dataset with symmetric noise is \n",
            " 0.8111\n",
            "ROC AUC score of the balanced dataset with symmetric noise is \n",
            " 0.8918632663070525\n"
          ]
        }
      ]
    },
    {
      "cell_type": "code",
      "metadata": {
        "colab": {
          "base_uri": "https://localhost:8080/"
        },
        "id": "IucC080dfAU4",
        "outputId": "335e5e40-e558-44f9-bbc7-0941ae7383cf"
      },
      "source": [
        "thetas_asym, classes_asym, costs_asym = fit(x_train, asym_noisy_ytr)\n",
        "\n",
        "print(f\"Train Accuracy: {score(classes_asym, thetas_asym, x_train, asym_noisy_ytr):.3f}\")\n",
        "\n",
        "ypred = predict(classes_asym, thetas_asym, x_test, y_test)\n",
        "cat_ypred =to_categorical(ypred, 10)\n",
        "\n",
        "\n",
        "print(\"Accuracy of the balanced dataset with asymmetric noise is \\n\", accuracy_score(y_test, ypred))\n",
        "print(\"Precision of the balanced dataset with asymmetric noise is \\n\", precision_score(y_test, ypred, average = 'micro'))\n",
        "print(\"Recall of the balanced dataset with asymmetric noise is \\n\", recall_score(y_test, ypred, average = 'micro'))\n",
        "print(\"ROC AUC score of the balanced dataset with asymmetric noise is \\n\", roc_auc_score(y_test, cat_ypred, multi_class='ovr'))\n"
      ],
      "execution_count": 42,
      "outputs": [
        {
          "output_type": "stream",
          "name": "stdout",
          "text": [
            "Train Accuracy: 0.691\n",
            "Accuracy of the balanced dataset with asymmetric noise is \n",
            " 0.7545\n",
            "Precision of the balanced dataset with asymmetric noise is \n",
            " 0.7545\n",
            "Recall of the balanced dataset with asymmetric noise is \n",
            " 0.7545\n",
            "ROC AUC score of the balanced dataset with asymmetric noise is \n",
            " 0.8588978227279724\n"
          ]
        }
      ]
    },
    {
      "cell_type": "code",
      "metadata": {
        "colab": {
          "base_uri": "https://localhost:8080/"
        },
        "id": "vRULuNZEY6X6",
        "outputId": "34990e15-c40e-4a3c-ccd5-1ab676110482"
      },
      "source": [
        "thetas_imb, classes_imb, costs_imb = fit(imbx_tr, imby_tr)\n",
        "\n",
        "print(f\"Train Accuracy: {score(classes_imb, thetas_imb, imbx_tr, imby_tr):.3f}\")\n",
        "\n",
        "ypred = predict(classes_imb, thetas_imb, x_test, y_test)\n",
        "cat_ypred =to_categorical(ypred, 10)\n",
        "\n",
        "\n",
        "print(\"Accuracy of the imbalanced dataset is \\n\", accuracy_score(y_test, ypred))\n",
        "print(\"Precision of the imbalanced dataset is \\n\", precision_score(y_test, ypred, average = 'micro'))\n",
        "print(\"Recall of the imbalanced dataset is \\n\", recall_score(y_test, ypred, average = 'micro'))\n",
        "print(\"ROC AUC score of the imbalanced dataset is \\n\", roc_auc_score(y_test, cat_ypred, multi_class='ovr'))\n",
        "\n",
        "\n"
      ],
      "execution_count": 43,
      "outputs": [
        {
          "output_type": "stream",
          "name": "stdout",
          "text": [
            "Train Accuracy: 0.779\n",
            "Accuracy of the imbalanced dataset is \n",
            " 0.775\n",
            "Precision of the imbalanced dataset is \n",
            " 0.775\n",
            "Recall of the imbalanced dataset is \n",
            " 0.775\n",
            "ROC AUC score of the imbalanced dataset is \n",
            " 0.8730143788822545\n"
          ]
        }
      ]
    },
    {
      "cell_type": "code",
      "metadata": {
        "colab": {
          "base_uri": "https://localhost:8080/"
        },
        "id": "YrS9H5Mofgh_",
        "outputId": "fab6657b-bf97-4e65-e360-0d51c3e65bac"
      },
      "source": [
        "thetas_imbsym, classes_imbsym, costs_imbsym = fit(imbx_tr, sym_noisy_imbytr)\n",
        "\n",
        "print(f\"Train Accuracy: {score(classes_imbsym, thetas_imbsym, imbx_tr, sym_noisy_imbytr):.3f}\")\n",
        "\n",
        "ypred = predict(classes_imbsym, thetas_imbsym, x_test, y_test)\n",
        "cat_ypred =to_categorical(ypred, 10)\n",
        "\n",
        "\n",
        "print(\"Accuracy of the imbalanced dataset with symmetric noise is \\n\", accuracy_score(y_test, ypred))\n",
        "print(\"Precision of the imbalanced dataset with symmetric noise is \\n\", precision_score(y_test, ypred, average = 'micro'))\n",
        "print(\"Recall of the imbalanced dataset with symmetric noise is \\n\", recall_score(y_test, ypred, average = 'micro'))\n",
        "print(\"ROC AUC score of the imbalanced dataset with symmetric noise is \\n\", roc_auc_score(y_test, cat_ypred, multi_class='ovr'))"
      ],
      "execution_count": 44,
      "outputs": [
        {
          "output_type": "stream",
          "name": "stdout",
          "text": [
            "Train Accuracy: 0.598\n",
            "Accuracy of the imbalanced dataset with symmetric noise is \n",
            " 0.7016\n",
            "Precision of the imbalanced dataset with symmetric noise is \n",
            " 0.7016\n",
            "Recall of the imbalanced dataset with symmetric noise is \n",
            " 0.7016\n",
            "ROC AUC score of the imbalanced dataset with symmetric noise is \n",
            " 0.8317730624830583\n"
          ]
        }
      ]
    },
    {
      "cell_type": "code",
      "metadata": {
        "colab": {
          "base_uri": "https://localhost:8080/"
        },
        "id": "RDePyHpBfgYv",
        "outputId": "195809d2-8c09-403e-ff77-a892b8514139"
      },
      "source": [
        "thetas_imbasym, classes_imbasym, costs_imbasym = fit(imbx_tr, asym_noisy_imbytr)\n",
        "\n",
        "print(f\"Train Accuracy: {score(classes_imbasym, thetas_imbasym, imbx_tr, asym_noisy_imbytr):.3f}\")\n",
        "\n",
        "ypred = predict(classes_imbasym, thetas_imbasym, x_test, y_test)\n",
        "cat_ypred =to_categorical(ypred, 10)\n",
        "\n",
        "\n",
        "print(\"Accuracy of the imbalanced dataset with asymmetric noise is \\n\", accuracy_score(y_test, ypred))\n",
        "print(\"Precision of the imbalanced dataset with asymmetric noise is \\n\", precision_score(y_test, ypred, average = 'micro'))\n",
        "print(\"Recall of the imbalanced dataset with asymmetric noise is \\n\", recall_score(y_test, ypred, average = 'micro'))\n",
        "print(\"ROC AUC score of the balanced dataset with asymmetric noise is \\n\", roc_auc_score(y_test, cat_ypred, multi_class='ovr'))"
      ],
      "execution_count": 45,
      "outputs": [
        {
          "output_type": "stream",
          "name": "stdout",
          "text": [
            "Train Accuracy: 0.662\n",
            "Accuracy of the imbalanced dataset with asymmetric noise is \n",
            " 0.726\n",
            "Precision of the imbalanced dataset with asymmetric noise is \n",
            " 0.726\n",
            "Recall of the imbalanced dataset with asymmetric noise is \n",
            " 0.726\n",
            "ROC AUC score of the balanced dataset with asymmetric noise is \n",
            " 0.8441293864071001\n"
          ]
        }
      ]
    },
    {
      "cell_type": "code",
      "metadata": {
        "id": "uxXTbP7qiY-S"
      },
      "source": [
        ""
      ],
      "execution_count": 45,
      "outputs": []
    }
  ]
}