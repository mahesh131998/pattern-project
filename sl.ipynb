{
  "nbformat": 4,
  "nbformat_minor": 0,
  "metadata": {
    "interpreter": {
      "hash": "6cd8bd74ef69522821253770afd7150a5632add34baf33b3aff44c5186478bb6"
    },
    "kernelspec": {
      "display_name": "Python 3.7.3 64-bit",
      "language": "python",
      "name": "python3"
    },
    "language_info": {
      "codemirror_mode": {
        "name": "ipython",
        "version": 3
      },
      "file_extension": ".py",
      "mimetype": "text/x-python",
      "name": "python",
      "nbconvert_exporter": "python",
      "pygments_lexer": "ipython3",
      "version": "3.7.3"
    },
    "orig_nbformat": 4,
    "colab": {
      "name": "sl.ipynb",
      "provenance": []
    }
  },
  "cells": [
    {
      "cell_type": "code",
      "metadata": {
        "id": "auyF3ir9vuJG"
      },
      "source": [
        "from __future__ import absolute_import\n",
        "from __future__ import print_function\n",
        "\n",
        "import os\n",
        "import time\n",
        "import numpy as np\n",
        "import keras.backend as K\n",
        "import argparse\n",
        "from keras.utils import np_utils\n",
        "from keras.preprocessing.image import ImageDataGenerator\n",
        "from keras.models import load_model\n",
        "from tensorflow.keras.optimizers import SGD\n",
        "from keras.callbacks import ModelCheckpoint\n",
        "import tensorflow as tf\n",
        "from keras.datasets import mnist\n",
        "from keras.layers import Input, Conv2D, Dense, MaxPooling2D, Dropout, Flatten, Activation, BatchNormalization\n",
        "import tensorflow as tf\n",
        "import keras.backend as K\n",
        "from keras.models import Model\n",
        "from keras.regularizers import l2\n",
        "from tensorflow.keras.applications.resnet50 import ResNet50\n",
        "from keras import backend as K\n",
        "import tensorflow as tf\n",
        "from keras.callbacks import Callback, LearningRateScheduler\n",
        "# from __future__ import absolute_import\n",
        "# from __future__ import print_function\n",
        "\n",
        "import numpy as np\n",
        "from keras.callbacks import LearningRateScheduler\n",
        "import cv2\n",
        "from imblearn.datasets import make_imbalance\n",
        "\n",
        "\n",
        "# from .util import get_lr_scheduler\n",
        "# from datasets import get_data\n",
        "# from models import get_model\n",
        "# from loss import symmetric_cross_entropy, cross_entropy, lsr, joint_optimization_loss, generalized_cross_entropy, boot_soft, boot_hard, forward, backward\n",
        "# from callback_util import LoggerCallback"
      ],
      "execution_count": 144,
      "outputs": []
    },
    {
      "cell_type": "code",
      "metadata": {
        "id": "qvPI9FgRvuJK"
      },
      "source": [
        "alpha = 1.0\n",
        "beta = 1.0\n",
        "asym=False\n",
        "noise_ratio=0\n",
        "epochs=1\n",
        "dataset='mnist'\n",
        "model_name='sl'\n",
        "batch_size=128\n",
        "dasm= True\n",
        "\n",
        "# y_train_clean = np.copy(y_train)"
      ],
      "execution_count": 145,
      "outputs": []
    },
    {
      "cell_type": "code",
      "metadata": {
        "id": "aBGpgSBfvuJK"
      },
      "source": [
        "# prepare folders\n",
        "folders = ['data', 'model', 'log']\n",
        "for folder in folders:\n",
        "    path = os.path.join('./', folder)\n",
        "    if not os.path.exists(path):\n",
        "        os.makedirs(path)"
      ],
      "execution_count": 146,
      "outputs": []
    },
    {
      "cell_type": "code",
      "metadata": {
        "id": "wXW4xz7ZvuJL"
      },
      "source": [
        "(X_train, y_train), (X_test, y_test) = mnist.load_data()\n",
        "\n",
        "# x_tr, y_tr = make_imbalance(X_train, y_train,\n",
        "#                               sampling_strategy={0: 2750, 1: 6675, 2: 2780, 3: 6100, 4: 3850, 5: 5400, 6: 2500, 7: 5860, 8: 5000, 9: 3654,},\n",
        "#                               random_state=42)\n"
      ],
      "execution_count": 147,
      "outputs": []
    },
    {
      "cell_type": "code",
      "metadata": {
        "colab": {
          "base_uri": "https://localhost:8080/"
        },
        "id": "wHgqHZ8xvuJL",
        "outputId": "7a3b182d-aaf7-4852-87fb-9f596a1c597f"
      },
      "source": [
        "# print(X_train.shape)\n",
        "# cv2.imshow(\"train\",X_train[0])\n",
        "if dasm:\n",
        "  X_train = X_train.reshape(-1,784,)\n",
        "  X_train, y_train = make_imbalance(X_train, y_train,\n",
        "                                sampling_strategy={0: 5000, 1: 5000, 2: 5000, 3: 5000, 4: 5000, 5: 5000, 6: 5000, 7: 5000, 8: 5000, 9: 5000,},\n",
        "                                random_state=42)\n",
        "  print(\"hi\")\n"
      ],
      "execution_count": 148,
      "outputs": [
        {
          "output_type": "stream",
          "name": "stdout",
          "text": [
            "hi\n"
          ]
        }
      ]
    },
    {
      "cell_type": "code",
      "metadata": {
        "id": "zJOMwCfNvuJM"
      },
      "source": [
        "X_train = X_train.reshape(-1, 28, 28, 1)\n",
        "X_test = X_test.reshape(-1, 28, 28, 1)\n",
        "\n",
        "X_train = X_train / 255.0\n",
        "X_test = X_test / 255.0"
      ],
      "execution_count": 149,
      "outputs": []
    },
    {
      "cell_type": "code",
      "metadata": {
        "colab": {
          "base_uri": "https://localhost:8080/"
        },
        "id": "8LIkZlyJ4SB7",
        "outputId": "b7c652dc-4096-4546-a106-cf05cc45a9d0"
      },
      "source": [
        "print(X_train.shape)"
      ],
      "execution_count": 150,
      "outputs": [
        {
          "output_type": "stream",
          "name": "stdout",
          "text": [
            "(50000, 28, 28, 1)\n"
          ]
        }
      ]
    },
    {
      "cell_type": "code",
      "metadata": {
        "id": "HvlOjaqzvuJM"
      },
      "source": [
        "X_train = X_train.astype('float32')\n",
        "X_test = X_test.astype('float32')"
      ],
      "execution_count": 151,
      "outputs": []
    },
    {
      "cell_type": "code",
      "metadata": {
        "id": "qb7PoMn_vuJN"
      },
      "source": [
        "y_train_clean = np.copy(y_train)"
      ],
      "execution_count": 152,
      "outputs": []
    },
    {
      "cell_type": "code",
      "metadata": {
        "id": "XA-YDNVsvuJO"
      },
      "source": [
        "def other_class(n_classes, current_class):\n",
        "    if current_class < 0 or current_class >= n_classes:\n",
        "        error_str = \"class_ind must be within the range (0, nb_classes - 1)\"\n",
        "        raise ValueError(error_str)\n",
        "\n",
        "    other_class_list = list(range(n_classes))\n",
        "    other_class_list.remove(current_class)\n",
        "    other_class = np.random.choice(other_class_list)\n",
        "    return other_class"
      ],
      "execution_count": 153,
      "outputs": []
    },
    {
      "cell_type": "code",
      "metadata": {
        "colab": {
          "base_uri": "https://localhost:8080/"
        },
        "id": "YpDwhs4PvuJP",
        "outputId": "4f742ba4-b1df-46fb-dcbe-be480b86cd58"
      },
      "source": [
        "\n",
        "if noise_ratio > 0:\n",
        "    if asym:\n",
        "            data_file = \"data/asym_%s_train_labels_%s.npy\" % (dataset, noise_ratio)\n",
        "    else:\n",
        "            data_file = \"data/%s_train_labels_%s.npy\" % (dataset, noise_ratio)\n",
        "    if os.path.isfile(data_file):\n",
        "            y_train = np.load(data_file)\n",
        "    else:\n",
        "            if asym:\n",
        "                if dataset == 'mnist':\n",
        "                    # 1 < - 7, 2 -> 7, 3 -> 8, 5 <-> 6\n",
        "                    source_class = [7, 2, 3, 5, 6]\n",
        "                    target_class = [1, 7, 8, 6, 5]\n",
        "                if dataset == 'mnist' :\n",
        "                    for s, t in zip(source_class, target_class):\n",
        "                        cls_idx = np.where(y_train_clean == s)[0]\n",
        "                        n_noisy = int(noise_ratio * cls_idx.shape[0] / 100)\n",
        "                        noisy_sample_index = np.random.choice(cls_idx, n_noisy, replace=False)\n",
        "                        y_train[noisy_sample_index] = t\n",
        "            else:\n",
        "                n_samples = y_train.shape[0]\n",
        "                n_noisy = int(noise_ratio * n_samples / 100)\n",
        "                class_index = [np.where(y_train_clean == i)[0] for i in range(10)]\n",
        "                class_noisy = int(n_noisy / 10)\n",
        "\n",
        "                noisy_idx = []\n",
        "                for d in range(10):\n",
        "                    noisy_class_index = np.random.choice(class_index[d], class_noisy, replace=False)\n",
        "                    noisy_idx.extend(noisy_class_index)\n",
        "\n",
        "                for i in noisy_idx:\n",
        "                    y_train[i] = other_class(n_classes=10, current_class=y_train[i])\n",
        "            np.save(data_file, y_train)\n",
        "\n",
        "    print(\"Print noisy label generation statistics:\")\n",
        "    for i in range(10):\n",
        "            n_noisy = np.sum(y_train == i)\n",
        "            print(\"Noisy class %s, has %s samples.\" % (i, n_noisy))\n",
        "\n",
        "# # one-hot-encode the labels\n",
        "# y_train_clean = np_utils.to_categorical(y_train_clean, 10)\n",
        "# y_train = np_utils.to_categorical(y_train, 10)\n",
        "# y_test = np_utils.to_categorical(y_test, 10)\n",
        "\n",
        "print(\"X_train:\", X_train.shape)\n",
        "print(\"y_train:\", y_train.shape)\n",
        "print(\"X_test:\", X_test.shape)\n",
        "print(\"y_test\", y_test.shape)"
      ],
      "execution_count": 154,
      "outputs": [
        {
          "output_type": "stream",
          "name": "stdout",
          "text": [
            "X_train: (50000, 28, 28, 1)\n",
            "y_train: (50000,)\n",
            "X_test: (10000, 28, 28, 1)\n",
            "y_test (10000,)\n"
          ]
        }
      ]
    },
    {
      "cell_type": "code",
      "metadata": {
        "id": "cztC5Ei8vuJQ"
      },
      "source": [
        "y_train = np_utils.to_categorical(y_train, 10)\n",
        "y_test = np_utils.to_categorical(y_test, 10)"
      ],
      "execution_count": 155,
      "outputs": []
    },
    {
      "cell_type": "code",
      "metadata": {
        "colab": {
          "base_uri": "https://localhost:8080/"
        },
        "id": "T1axbK9BvuJR",
        "outputId": "a0de5bd2-eeb9-46be-e8e7-b554f362c5fd"
      },
      "source": [
        "n_images = X_train.shape[0]\n",
        "image_shape = X_train.shape[1:]\n",
        "num_classes = y_train.shape[1]\n",
        "print(\"n_images\", n_images, \"num_classes\", num_classes, \"image_shape:\", image_shape)"
      ],
      "execution_count": 156,
      "outputs": [
        {
          "output_type": "stream",
          "name": "stdout",
          "text": [
            "n_images 50000 num_classes 10 image_shape: (28, 28, 1)\n"
          ]
        }
      ]
    },
    {
      "cell_type": "code",
      "metadata": {
        "id": "K7YxySTKvuJR"
      },
      "source": [
        "# define P for forward and backward loss\n",
        "P = np.eye(num_classes)"
      ],
      "execution_count": 157,
      "outputs": []
    },
    {
      "cell_type": "code",
      "metadata": {
        "id": "JtGZlQoFvuJR"
      },
      "source": [
        "input_shape=image_shape\n",
        "img_input = Input(shape=input_shape)\n",
        "\n"
      ],
      "execution_count": 158,
      "outputs": []
    },
    {
      "cell_type": "code",
      "metadata": {
        "id": "wp-IjD5yvuJS"
      },
      "source": [
        "x = Conv2D(32, (3, 3), padding='same', kernel_initializer=\"he_normal\", name='conv1')(img_input)\n",
        "x = BatchNormalization()(x)\n",
        "x = Activation('relu')(x)\n",
        "x = MaxPooling2D((2, 2), strides=(2, 2), name='pool1')(x)\n",
        "\n",
        "x = Conv2D(64, (3, 3), padding='same', kernel_initializer=\"he_normal\", name='conv2')(x)\n",
        "x = BatchNormalization()(x)\n",
        "x = Activation('relu')(x)\n",
        "x = MaxPooling2D((2, 2), strides=(2, 2), name='pool2')(x)\n",
        "\n",
        "x = Flatten()(x)\n",
        "\n",
        "x = Dense(128, kernel_initializer=\"he_normal\", name='fc1')(x)\n",
        "x = BatchNormalization()(x)\n",
        "x = Activation('relu', name='lid')(x)\n",
        "# x = Dropout(0.2)(x)\n",
        "\n",
        "x = Dense(num_classes, kernel_initializer=\"he_normal\")(x)\n",
        "x = Activation(tf.nn.softmax)(x)\n",
        "\n",
        "model = Model(img_input, x)"
      ],
      "execution_count": 159,
      "outputs": []
    },
    {
      "cell_type": "code",
      "metadata": {
        "colab": {
          "base_uri": "https://localhost:8080/"
        },
        "id": "0PySGC4kvuJS",
        "outputId": "9c337f33-7325-435c-c922-9aa335d2bdeb"
      },
      "source": [
        "print(model.summary())"
      ],
      "execution_count": 160,
      "outputs": [
        {
          "output_type": "stream",
          "name": "stdout",
          "text": [
            "Model: \"model_4\"\n",
            "_________________________________________________________________\n",
            " Layer (type)                Output Shape              Param #   \n",
            "=================================================================\n",
            " input_5 (InputLayer)        [(None, 28, 28, 1)]       0         \n",
            "                                                                 \n",
            " conv1 (Conv2D)              (None, 28, 28, 32)        320       \n",
            "                                                                 \n",
            " batch_normalization_12 (Bat  (None, 28, 28, 32)       128       \n",
            " chNormalization)                                                \n",
            "                                                                 \n",
            " activation_12 (Activation)  (None, 28, 28, 32)        0         \n",
            "                                                                 \n",
            " pool1 (MaxPooling2D)        (None, 14, 14, 32)        0         \n",
            "                                                                 \n",
            " conv2 (Conv2D)              (None, 14, 14, 64)        18496     \n",
            "                                                                 \n",
            " batch_normalization_13 (Bat  (None, 14, 14, 64)       256       \n",
            " chNormalization)                                                \n",
            "                                                                 \n",
            " activation_13 (Activation)  (None, 14, 14, 64)        0         \n",
            "                                                                 \n",
            " pool2 (MaxPooling2D)        (None, 7, 7, 64)          0         \n",
            "                                                                 \n",
            " flatten_4 (Flatten)         (None, 3136)              0         \n",
            "                                                                 \n",
            " fc1 (Dense)                 (None, 128)               401536    \n",
            "                                                                 \n",
            " batch_normalization_14 (Bat  (None, 128)              512       \n",
            " chNormalization)                                                \n",
            "                                                                 \n",
            " lid (Activation)            (None, 128)               0         \n",
            "                                                                 \n",
            " dense_4 (Dense)             (None, 10)                1290      \n",
            "                                                                 \n",
            " activation_14 (Activation)  (None, 10)                0         \n",
            "                                                                 \n",
            "=================================================================\n",
            "Total params: 422,538\n",
            "Trainable params: 422,090\n",
            "Non-trainable params: 448\n",
            "_________________________________________________________________\n",
            "None\n"
          ]
        }
      ]
    },
    {
      "cell_type": "code",
      "metadata": {
        "colab": {
          "base_uri": "https://localhost:8080/"
        },
        "id": "6xveLVhPvuJS",
        "outputId": "6c5f2ce4-67e6-4f82-ee31-6de73b3addcc"
      },
      "source": [
        "optimizer = SGD(lr=0.1, decay=1e-4, momentum=0.9)"
      ],
      "execution_count": 161,
      "outputs": [
        {
          "output_type": "stream",
          "name": "stderr",
          "text": [
            "/usr/local/lib/python3.7/dist-packages/keras/optimizer_v2/gradient_descent.py:102: UserWarning: The `lr` argument is deprecated, use `learning_rate` instead.\n",
            "  super(SGD, self).__init__(name, **kwargs)\n"
          ]
        }
      ]
    },
    {
      "cell_type": "code",
      "metadata": {
        "id": "3a55TuBovuJT"
      },
      "source": [
        "def symmetric_cross_entropy(alpha, beta):\n",
        "    def loss(y_true, y_pred):\n",
        "        y_true_1 = y_true\n",
        "        y_pred_1 = y_pred\n",
        "\n",
        "        y_true_2 = y_true\n",
        "        y_pred_2 = y_pred\n",
        "\n",
        "        y_pred_1 = tf.clip_by_value(y_pred_1, 1e-7, 1.0)\n",
        "        y_true_2 = tf.clip_by_value(y_true_2, 1e-4, 1.0)\n",
        "\n",
        "        return alpha*tf.reduce_mean(-tf.reduce_sum(y_true_1 * tf.math.log(y_pred_1), axis = -1)) + beta*tf.reduce_mean(-tf.reduce_sum(y_pred_2 * tf.math.log(y_true_2), axis = -1))\n",
        "    return loss"
      ],
      "execution_count": 162,
      "outputs": []
    },
    {
      "cell_type": "code",
      "metadata": {
        "id": "yGs2q5JFvuJT"
      },
      "source": [
        " # create loss\n",
        "# alpha = 1.0\n",
        "# beta = 1.0\n",
        "loss = symmetric_cross_entropy(alpha,beta)"
      ],
      "execution_count": 163,
      "outputs": []
    },
    {
      "cell_type": "code",
      "metadata": {
        "colab": {
          "base_uri": "https://localhost:8080/"
        },
        "id": "ejBFRmEKvuJT",
        "outputId": "c456300e-1bee-473d-f734-caa1676f78c3"
      },
      "source": [
        "print(loss)"
      ],
      "execution_count": 164,
      "outputs": [
        {
          "output_type": "stream",
          "name": "stdout",
          "text": [
            "<function symmetric_cross_entropy.<locals>.loss at 0x7f5d31f88050>\n"
          ]
        }
      ]
    },
    {
      "cell_type": "code",
      "metadata": {
        "id": "I28IKc66vuJT"
      },
      "source": [
        "# model\n",
        "model.compile(\n",
        "    loss=loss,\n",
        "    optimizer=optimizer,\n",
        "    metrics=['accuracy']\n",
        ")"
      ],
      "execution_count": 165,
      "outputs": []
    },
    {
      "cell_type": "code",
      "metadata": {
        "id": "RcMt8xa6vuJU"
      },
      "source": [
        "# asym=False\n",
        "if asym:\n",
        "    model_save_file = \"model/asym_%s_%s_%s.{epoch:02d}.hdf5\" % ('sl','MNIST', 0)\n",
        "else:\n",
        "    model_save_file = \"model/%s_%s_%s.{epoch:02d}.hdf5\" % ('sl','MNIST', 0)"
      ],
      "execution_count": 166,
      "outputs": []
    },
    {
      "cell_type": "code",
      "metadata": {
        "id": "Rxulh3vfvuJU"
      },
      "source": [
        "## do real-time updates using callbakcs\n",
        "callbacks = []"
      ],
      "execution_count": 167,
      "outputs": []
    },
    {
      "cell_type": "code",
      "metadata": {
        "colab": {
          "base_uri": "https://localhost:8080/"
        },
        "id": "VuPN0Q2xvuJU",
        "outputId": "50edb9f7-a53c-4e19-849b-d37d751c110b"
      },
      "source": [
        "cp_callback = ModelCheckpoint(model_save_file,\n",
        "                                monitor='val_loss',\n",
        "                                verbose=0,\n",
        "                                save_best_only=False,\n",
        "                                save_weights_only=True,\n",
        "                                period=1)\n",
        "callbacks.append(cp_callback)"
      ],
      "execution_count": 168,
      "outputs": [
        {
          "output_type": "stream",
          "name": "stdout",
          "text": [
            "WARNING:tensorflow:`period` argument is deprecated. Please use `save_freq` to specify the frequency in number of batches seen.\n"
          ]
        }
      ]
    },
    {
      "cell_type": "code",
      "metadata": {
        "id": "VDqtDz6mvuJV"
      },
      "source": [
        "# Set random seed\n",
        "np.random.seed(123)\n",
        "def get_lr_scheduler(dataset):\n",
        "    if dataset in ['mnist']:\n",
        "        def scheduler(epoch):\n",
        "            if epoch > 30:\n",
        "                return 0.001\n",
        "            elif epoch > 10:\n",
        "                return 0.01\n",
        "            else:\n",
        "                return 0.1\n",
        "        return LearningRateScheduler(scheduler)"
      ],
      "execution_count": 169,
      "outputs": []
    },
    {
      "cell_type": "code",
      "metadata": {
        "id": "Jy5FigKTvuJV"
      },
      "source": [
        "# learning rate scheduler if use sgd\n",
        "# noise_ratio=0\n",
        "# epochs=50\n",
        "# dataset='mnist'\n",
        "# model_name='sl'\n",
        "\n",
        "# y_train_clean = np.copy(y_train)\n",
        "\n",
        "lr_scheduler = get_lr_scheduler('mnist')\n",
        "callbacks.append(lr_scheduler)"
      ],
      "execution_count": 170,
      "outputs": []
    },
    {
      "cell_type": "code",
      "metadata": {
        "id": "y32J2-9_vuJV"
      },
      "source": [
        "\n",
        "class LoggerCallback(Callback):\n",
        "    \"\"\"\n",
        "    Log train/val loss and acc into file for later plots.\n",
        "    \"\"\"\n",
        "    def __init__(self, model, X_train, y_train, y_train_clean, X_test, y_test, dataset,\n",
        "                 model_name, noise_ratio, asym, epochs, alpha, beta):\n",
        "        super(LoggerCallback, self).__init__()\n",
        "        self.model = model\n",
        "        self.X_train = X_train\n",
        "        self.y_train = y_train\n",
        "        self.y_train_clean = y_train_clean\n",
        "        self.X_test = X_test\n",
        "        self.y_test = y_test\n",
        "        self.n_class = y_train.shape[1]\n",
        "        self.dataset = dataset\n",
        "        self.model_name = model_name\n",
        "        self.noise_ratio = noise_ratio\n",
        "        self.asym = asym\n",
        "        self.epochs = epochs\n",
        "        self.alpha = alpha\n",
        "        self.beta = beta\n",
        "\n",
        "        self.train_loss = []\n",
        "        self.test_loss = []\n",
        "        self.train_acc = []\n",
        "        self.test_acc = []\n",
        "        self.train_loss_class = [None]*self.n_class\n",
        "        self.train_acc_class = [None]*self.n_class\n",
        "\n",
        "        # the followings are used to estimate LID\n",
        "        self.lid_k = 20\n",
        "        self.lid_subset = 128\n",
        "        self.lids = []\n",
        "\n",
        "        # complexity - Critical Sample Ratio (csr)\n",
        "        self.csr_subset = 500\n",
        "        self.csr_batchsize = 100\n",
        "        self.csrs = []\n",
        "\n",
        "    def on_epoch_end(self, epoch, logs={}):\n",
        "        tr_acc = logs.get('acc')\n",
        "        tr_loss = logs.get('loss')\n",
        "        val_loss = logs.get('val_loss')\n",
        "        val_acc = logs.get('val_acc')\n",
        "\n",
        "        self.train_loss.append(tr_loss)\n",
        "        self.test_loss.append(val_loss)\n",
        "        self.train_acc.append(tr_acc)\n",
        "        self.test_acc.append(val_acc)\n",
        "\n",
        "        print('ALL acc:', self.test_acc)\n",
        "\n",
        "        if self.asym:\n",
        "            file_name = 'log/asym_loss_%s_%s_%s.npy' % \\\n",
        "                        (self.model_name, self.dataset, self.noise_ratio)\n",
        "            np.save(file_name, np.stack((np.array(self.train_loss), np.array(self.test_loss))))\n",
        "            file_name = 'log/asym_acc_%s_%s_%s.npy' % \\\n",
        "                        (self.model_name, self.dataset, self.noise_ratio)\n",
        "            np.save(file_name, np.stack((np.array(self.train_acc), np.array(self.test_acc))))\n",
        "            file_name = 'log/asym_class_loss_%s_%s_%s.npy' % \\\n",
        "                        (self.model_name, self.dataset, self.noise_ratio)\n",
        "            np.save(file_name, np.array(self.train_loss_class))\n",
        "            file_name = 'log/asym_class_acc_%s_%s_%s.npy' % \\\n",
        "                        (self.model_name, self.dataset, self.noise_ratio)\n",
        "            np.save(file_name, np.array(self.train_acc_class))\n",
        "        else:\n",
        "            file_name = 'log/loss_%s_%s_%s_%s.npy' % \\\n",
        "                        (self.model_name, self.dataset, self.noise_ratio, self.alpha)\n",
        "            np.save(file_name, np.stack((np.array(self.train_loss), np.array(self.test_loss))))\n",
        "            file_name = 'log/acc_%s_%s_%s_%s.npy' % \\\n",
        "                        (self.model_name, self.dataset, self.noise_ratio, self.alpha)\n",
        "            np.save(file_name, np.stack((np.array(self.train_acc), np.array(self.test_acc))))\n",
        "\n",
        "        return\n",
        "\n",
        "\n",
        "class SGDLearningRateTracker(Callback):\n",
        "    def __init__(self, model):\n",
        "        super(SGDLearningRateTracker, self).__init__()\n",
        "        self.model = model\n",
        "\n",
        "    def on_epoch_begin(self, epoch, logs={}):\n",
        "        init_lr = float(K.get_value(self.model.optimizer.lr))\n",
        "        decay = float(K.get_value(self.model.optimizer.decay))\n",
        "        iterations = float(K.get_value(self.model.optimizer.iterations))\n",
        "        lr = init_lr * (1. / (1. + decay * iterations))\n",
        "        print('init lr: %.4f, current lr: %.4f, decay: %.4f, iterations: %s' % (init_lr, lr, decay, iterations))"
      ],
      "execution_count": 171,
      "outputs": []
    },
    {
      "cell_type": "code",
      "metadata": {
        "id": "ilfYPmBtvuJV"
      },
      "source": [
        "callbacks.append(SGDLearningRateTracker(model))"
      ],
      "execution_count": 172,
      "outputs": []
    },
    {
      "cell_type": "code",
      "metadata": {
        "id": "_Pj6ijt_vuJW"
      },
      "source": [
        "# acc, loss, lid\n",
        "log_callback = LoggerCallback(model, X_train, y_train, y_train_clean, X_test, y_test, dataset, model_name, noise_ratio, asym, epochs, alpha, beta)\n",
        "callbacks.append(log_callback)"
      ],
      "execution_count": 173,
      "outputs": []
    },
    {
      "cell_type": "code",
      "metadata": {
        "id": "iktAeXlAvuJW"
      },
      "source": [
        "datagen = ImageDataGenerator()\n",
        "datagen.fit(X_train)"
      ],
      "execution_count": 174,
      "outputs": []
    },
    {
      "cell_type": "code",
      "metadata": {
        "id": "W8nx4HF0vuJW"
      },
      "source": [
        "# batch_size=128"
      ],
      "execution_count": 175,
      "outputs": []
    },
    {
      "cell_type": "code",
      "metadata": {
        "colab": {
          "base_uri": "https://localhost:8080/"
        },
        "id": "gGLTLd0avuJW",
        "outputId": "f472fb45-7e0e-464a-978b-7cad713b20e5"
      },
      "source": [
        "model.fit_generator(datagen.flow(X_train, y_train, batch_size=batch_size),\n",
        "                        steps_per_epoch=len(X_train) / batch_size, epochs=epochs,\n",
        "                        validation_data=(X_test, y_test),\n",
        "                        verbose=1,\n",
        "                        callbacks=callbacks\n",
        "                        )"
      ],
      "execution_count": 176,
      "outputs": [
        {
          "output_type": "stream",
          "name": "stderr",
          "text": [
            "/usr/local/lib/python3.7/dist-packages/ipykernel_launcher.py:5: UserWarning: `Model.fit_generator` is deprecated and will be removed in a future version. Please use `Model.fit`, which supports generators.\n",
            "  \"\"\"\n"
          ]
        },
        {
          "output_type": "stream",
          "name": "stdout",
          "text": [
            "init lr: 0.1000, current lr: 0.1000, decay: 0.0001, iterations: 0.0\n",
            "391/390 [==============================] - ETA: 0s - loss: 0.4883 - accuracy: 0.9670ALL acc: [None]\n",
            "390/390 [==============================] - 68s 173ms/step - loss: 0.4883 - accuracy: 0.9670 - val_loss: 0.2168 - val_accuracy: 0.9849 - lr: 0.1000\n"
          ]
        },
        {
          "output_type": "execute_result",
          "data": {
            "text/plain": [
              "<keras.callbacks.History at 0x7f5d31fe9450>"
            ]
          },
          "metadata": {},
          "execution_count": 176
        }
      ]
    }
  ]
}