{
 "cells": [
  {
   "cell_type": "code",
   "execution_count": 10,
   "metadata": {},
   "outputs": [],
   "source": [
    "\n",
    "import sys\n",
    "import numpy as np\n",
    "import pandas as pd\n",
    "import matplotlib.pyplot as plt\n",
    "import seaborn as sb\n",
    "%matplotlib inline\n",
    "\n",
    "from scipy.io import loadmat\n",
    "from sklearn.metrics import accuracy_score, confusion_matrix\n",
    "from sklearn.model_selection import train_test_split\n"
   ]
  },
  {
   "cell_type": "code",
   "execution_count": 16,
   "metadata": {},
   "outputs": [],
   "source": [
    "\n",
    "# df = pd.read_csv( \"mnist_train.csv\" )\n",
    "mnist = pd.read_csv( \"mnist_train.csv\" )\n",
    "mnist_data = mnist.iloc[:,1:]\n",
    "mnist_label = mnist.iloc[:, 0]\n"
   ]
  },
  {
   "cell_type": "code",
   "execution_count": 19,
   "metadata": {},
   "outputs": [
    {
     "name": "stdout",
     "output_type": "stream",
     "text": [
      "(60000,)\n",
      "(60000, 784)\n"
     ]
    }
   ],
   "source": [
    "print(mnist_label.shape)\n",
    "print(mnist_data.shape)"
   ]
  },
  {
   "cell_type": "code",
   "execution_count": 21,
   "metadata": {},
   "outputs": [],
   "source": [
    "mnist_datac=mnist_data.to_numpy()"
   ]
  },
  {
   "cell_type": "code",
   "execution_count": 22,
   "metadata": {},
   "outputs": [
    {
     "name": "stdout",
     "output_type": "stream",
     "text": [
      "[[0 0 0 ... 0 0 0]\n",
      " [0 0 0 ... 0 0 0]\n",
      " [0 0 0 ... 0 0 0]\n",
      " ...\n",
      " [0 0 0 ... 0 0 0]\n",
      " [0 0 0 ... 0 0 0]\n",
      " [0 0 0 ... 0 0 0]]\n"
     ]
    }
   ],
   "source": [
    "print(mnist_datac)"
   ]
  },
  {
   "cell_type": "code",
   "execution_count": 23,
   "metadata": {},
   "outputs": [
    {
     "name": "stdout",
     "output_type": "stream",
     "text": [
      "(60000, 784)\n"
     ]
    }
   ],
   "source": [
    "data= mnist_datac\n",
    "mean = np.mean(data, axis=1, keepdims=True)\n",
    "std = np.std(data, axis=1, keepdims=True)\n",
    "data_normalized = (data - mean)/std\n",
    "print(data_normalized.shape)\n"
   ]
  },
  {
   "cell_type": "code",
   "execution_count": 27,
   "metadata": {},
   "outputs": [],
   "source": [
    "X_train, X_test, Y_train, Y_test = train_test_split(data_normalized, mnist_label, test_size=0.20, random_state=42)\n",
    "Y_train = Y_train.values.reshape(Y_train.shape[0],1)\n",
    "Y_test = Y_test.values.reshape(Y_test.shape[0],1)"
   ]
  },
  {
   "cell_type": "code",
   "execution_count": 28,
   "metadata": {},
   "outputs": [
    {
     "name": "stdout",
     "output_type": "stream",
     "text": [
      "(12000, 784)\n",
      "(48000, 784)\n",
      "(12000, 1)\n",
      "(48000, 1)\n"
     ]
    }
   ],
   "source": [
    "print(X_test.shape)\n",
    "print(X_train.shape)\n",
    "print(Y_test.shape)\n",
    "print(Y_train.shape)"
   ]
  },
  {
   "cell_type": "code",
   "execution_count": null,
   "metadata": {},
   "outputs": [],
   "source": []
  },
  {
   "cell_type": "code",
   "execution_count": null,
   "metadata": {},
   "outputs": [],
   "source": []
  },
  {
   "cell_type": "code",
   "execution_count": null,
   "metadata": {},
   "outputs": [],
   "source": [
    "import numpy as np\n",
    "import pandas as pd\n",
    "from sklearn.model_selection import train_test_split\n",
    "\n",
    "df = pd.read_csv( \"mnist_train.csv\"  )\n",
    "print(df.shape)\n",
    "feature = df.iloc[:,1:].values #X\n",
    "target = df.iloc[:, 0].values  #Y\n",
    "\n",
    "# mnist = pd.read_csv( \"mnist_train.csv\" )\n",
    "# mnist_data = mnist.iloc[:,1:]\n",
    "# mnist_label = mnist.iloc[:, 0]\n",
    "\n",
    "\n",
    "X_train, X_test, y_train,  y_test = train_test_split(feature, target, train_size=0.8, random_state = 6)\n",
    "# X_valid, X_test, y_valid, y_test = train_test_split(X_rem,y_rem, test_size=0.5, random_state = 4)\n",
    "\n",
    "learning_rate = 0.0001\n",
    "iterations = 300\n",
    "      \n",
    "#fit\n",
    "row_m , coloumn_n = X_train.shape\n",
    "w= np.zeros(coloumn_n)\n",
    "b=0\n",
    "\n",
    "for i in range( iterations ) :\n",
    "    A = 1 / ( 1 + np.exp( - ( X_train.dot( w ) + b ) ) )\n",
    "    temp = ( A - y_train.T )   #Y_train.T       \n",
    "    temp = np.reshape( temp, row_m )        \n",
    "    dW = np.dot( X_train.T, temp ) / row_m         \n",
    "    db = np.sum( temp ) / row_m \n",
    "          \n",
    "        # update weights    \n",
    "    w = w - learning_rate * dW    \n",
    "    b = b - learning_rate * db\n",
    "\n",
    "#predict\n",
    "Z = 1 / ( 1 + np.exp( - ( X_test.dot( w ) + b ) ) )        \n",
    "Y_p = np.where( Z > 0.5, 1, 0 )\n",
    "\n",
    "correct_decided=0\n",
    "\n",
    "counters=0\n",
    "for counter in range( np.size( Y_p ) ) :  \n",
    "        \n",
    "        if y_test[counter] == Y_p[counter] :    #Y_train.T        \n",
    "            correct_decided = correct_decided + 1\n",
    "              \n",
    "        counters = counters + 1\n",
    "\n",
    "print( \"Accuracy on test set by our model       :  \", ( correct_decided / counters ) * 100 )"
   ]
  }
 ],
 "metadata": {
  "interpreter": {
   "hash": "6cd8bd74ef69522821253770afd7150a5632add34baf33b3aff44c5186478bb6"
  },
  "kernelspec": {
   "display_name": "Python 3.7.3 64-bit",
   "language": "python",
   "name": "python3"
  },
  "language_info": {
   "codemirror_mode": {
    "name": "ipython",
    "version": 3
   },
   "file_extension": ".py",
   "mimetype": "text/x-python",
   "name": "python",
   "nbconvert_exporter": "python",
   "pygments_lexer": "ipython3",
   "version": "3.7.3"
  },
  "orig_nbformat": 4
 },
 "nbformat": 4,
 "nbformat_minor": 2
}
