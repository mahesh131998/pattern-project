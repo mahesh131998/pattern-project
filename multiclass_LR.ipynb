{
  "nbformat": 4,
  "nbformat_minor": 0,
  "metadata": {
    "colab": {
      "name": "multiclass LR",
      "provenance": [],
      "collapsed_sections": []
    },
    "kernelspec": {
      "name": "python3",
      "display_name": "Python 3"
    },
    "language_info": {
      "name": "python"
    }
  },
  "cells": [
    {
      "cell_type": "code",
      "metadata": {
        "id": "aUzCMNTfUxb2"
      },
      "source": [
        "import numpy as np\n",
        "import matplotlib.pyplot as plt\n",
        "from keras.datasets import mnist\n",
        "from imblearn.datasets import make_imbalance\n",
        "\n",
        "from sklearn.metrics import precision_score, recall_score, roc_auc_score"
      ],
      "execution_count": 33,
      "outputs": []
    },
    {
      "cell_type": "code",
      "metadata": {
        "id": "MnoOLuq2U6Zj"
      },
      "source": [
        "def sigmoid(z):\n",
        "  return 1 / (1+np.exp(-z)) "
      ],
      "execution_count": 2,
      "outputs": []
    },
    {
      "cell_type": "code",
      "metadata": {
        "id": "SLSieZK5VKCL"
      },
      "source": [
        "def cost(theta, x, y):\n",
        "  h = sigmoid(x @ theta)\n",
        "  m = len(y)\n",
        "  cost = 1 / m * np.sum( -y * np.log(h) - (1 - y) * np.log(1 - h))\n",
        "  grad = 1 / m * ((y - h) @ x)\n",
        "  return cost,grad"
      ],
      "execution_count": 3,
      "outputs": []
    },
    {
      "cell_type": "code",
      "metadata": {
        "id": "73Ntaj5ZWZe_"
      },
      "source": [
        "def fit(x, y, itr = 200, alpha = 0.25):\n",
        "  x = np.insert(x, 0, 1, axis = 1)\n",
        "  thetas=[]\n",
        "  classes = np.unique(y)\n",
        "  costs = np.zeros(itr)\n",
        "\n",
        "  for c in classes:\n",
        "    bin_y = np.where(y == c, 1, 0)\n",
        "    theta = np.zeros(x.shape[1])\n",
        "\n",
        "    for epoch in range(itr):\n",
        "      costs[epoch], grad = cost(theta, x, bin_y)\n",
        "      theta += alpha * grad\n",
        "\n",
        "    thetas.append(theta)\n",
        "\n",
        "  return thetas, classes, costs"
      ],
      "execution_count": 27,
      "outputs": []
    },
    {
      "cell_type": "code",
      "metadata": {
        "id": "M871Ix-oXLOh"
      },
      "source": [
        "def predict(classes, thetas, x):\n",
        "  x = np.insert(x, 0, 1, axis = 1)\n",
        "  preds = [np.argmax([sigmoid])]"
      ],
      "execution_count": 41,
      "outputs": []
    },
    {
      "cell_type": "code",
      "metadata": {
        "id": "q99h_iOyZBFr"
      },
      "source": [
        "def score (classes, theta, x, y):\n",
        "  return (predict(classes, theta, x) == y).mean()"
      ],
      "execution_count": 51,
      "outputs": []
    },
    {
      "cell_type": "code",
      "metadata": {
        "id": "Aa3FchuEZC4W"
      },
      "source": [
        "def other_class(n_classes, current_class):\n",
        "    if current_class < 0 or current_class >= n_classes:\n",
        "        error_str = \"class_ind must be within the range (0, nb_classes - 1)\"\n",
        "        raise ValueError(error_str)\n",
        "\n",
        "    other_class_list = list(range(n_classes))\n",
        "    other_class_list.remove(current_class)\n",
        "    other_class = np.random.choice(other_class_list)\n",
        "    return other_class\n",
        "\n",
        "def create_noise(y_tr, noise_ratio, asym):\n",
        "  if noise_ratio > 0:\n",
        "      dataset = 'mnist'\n",
        "      noisy_y_tr = y_tr\n",
        "      if asym:\n",
        "          if dataset == 'mnist':\n",
        "              # 1 < - 5, 2 -> 4, 3 -> 7, 5 <-> 6, 8 -> 9\n",
        "              source_class = [5, 2, 3, 5, 6, 8]\n",
        "              target_class = [1, 4, 7, 6, 5, 9]\n",
        "          if dataset == 'mnist' :\n",
        "              for s, t in zip(source_class, target_class):\n",
        "                  cls_idx = np.where(y_tr == s)[0]\n",
        "                  n_noisy = int(noise_ratio * cls_idx.shape[0] / 100)\n",
        "                  noisy_sample_index = np.random.choice(cls_idx, n_noisy, replace=False)\n",
        "                  noisy_y_tr[noisy_sample_index] = t\n",
        "      else:\n",
        "          n_samples = noisy_y_tr.shape[0]\n",
        "          n_noisy = int(noise_ratio * n_samples / 100)\n",
        "          class_index = [np.where(y_tr == i)[0] for i in range(10)]\n",
        "          class_noisy = int(n_noisy / 10)\n",
        "\n",
        "          noisy_idx = []\n",
        "          for d in range(10):\n",
        "              noisy_class_index = np.random.choice(class_index[d], class_noisy, replace=False)\n",
        "              noisy_idx.extend(noisy_class_index)\n",
        "\n",
        "          for i in noisy_idx:\n",
        "              noisy_y_tr[i] = other_class(n_classes=10, current_class=y_tr[i])\n",
        "\n",
        "      print(\"Print noisy label generation statistics:\")\n",
        "      count = 0\n",
        "      for i in range(10):\n",
        "              n_noisy = np.sum(noisy_y_tr == i)\n",
        "              print(\"Noisy class %s, has %s samples.\" % (i, n_noisy))\n",
        "              count += n_noisy\n",
        "      print(count)\n",
        "      return noisy_y_tr"
      ],
      "execution_count": 7,
      "outputs": []
    },
    {
      "cell_type": "code",
      "metadata": {
        "id": "99uAcOvMXoDp"
      },
      "source": [
        "(x_train, y_train), (x_test, y_test) = mnist.load_data()"
      ],
      "execution_count": 8,
      "outputs": []
    },
    {
      "cell_type": "code",
      "metadata": {
        "colab": {
          "base_uri": "https://localhost:8080/"
        },
        "id": "rA8HIZLyX-u6",
        "outputId": "5470cb04-b3b2-475a-c257-3b7ef37fc8b7"
      },
      "source": [
        "print(x_train.shape)\n",
        "print(x_test.shape)"
      ],
      "execution_count": 9,
      "outputs": [
        {
          "output_type": "stream",
          "name": "stdout",
          "text": [
            "(60000, 28, 28)\n",
            "(10000, 28, 28)\n"
          ]
        }
      ]
    },
    {
      "cell_type": "code",
      "metadata": {
        "colab": {
          "base_uri": "https://localhost:8080/"
        },
        "id": "uEj4ICZ-XvVq",
        "outputId": "93db3599-c124-48c4-b151-04cb76640805"
      },
      "source": [
        "x_train=x_train.reshape(x_train.shape[0],-1)\n",
        "\n",
        "x_test=x_test.reshape(x_test.shape[0],-1)\n",
        "\n",
        "print(x_train.shape)\n",
        "print(x_test.shape)"
      ],
      "execution_count": 10,
      "outputs": [
        {
          "output_type": "stream",
          "name": "stdout",
          "text": [
            "(60000, 784)\n",
            "(10000, 784)\n"
          ]
        }
      ]
    },
    {
      "cell_type": "code",
      "metadata": {
        "id": "yU_fat2iZPix"
      },
      "source": [
        "imbx_tr, imby_tr = make_imbalance(x_train, y_train,\n",
        "                              sampling_strategy={0: 2550, 1: 6675, 2: 3280, 3: 6100, 4: 3850, 5: 5400, 6: 3065, 7: 5860, 8: 5000, 9: 3654,},\n",
        "                              random_state=42)"
      ],
      "execution_count": 11,
      "outputs": []
    },
    {
      "cell_type": "code",
      "metadata": {
        "colab": {
          "base_uri": "https://localhost:8080/"
        },
        "id": "vl004GKrZSWr",
        "outputId": "7d872950-50d2-4bf6-a9e5-0165b72c1fd6"
      },
      "source": [
        "print(imbx_tr.shape)\n",
        "print(imby_tr.shape)"
      ],
      "execution_count": 12,
      "outputs": [
        {
          "output_type": "stream",
          "name": "stdout",
          "text": [
            "(45434, 784)\n",
            "(45434,)\n"
          ]
        }
      ]
    },
    {
      "cell_type": "code",
      "metadata": {
        "colab": {
          "base_uri": "https://localhost:8080/"
        },
        "id": "fNwxHit4ZCw1",
        "outputId": "1d71c466-40b1-4ded-9101-b4b18cd818ae"
      },
      "source": [
        "sym_noisy_imbytr = create_noise(imby_tr, noise_ratio = 20, asym = False)"
      ],
      "execution_count": 13,
      "outputs": [
        {
          "output_type": "stream",
          "name": "stdout",
          "text": [
            "Print noisy label generation statistics:\n",
            "Noisy class 0, has 2477 samples.\n",
            "Noisy class 1, has 6714 samples.\n",
            "Noisy class 2, has 3258 samples.\n",
            "Noisy class 3, has 6074 samples.\n",
            "Noisy class 4, has 3862 samples.\n",
            "Noisy class 5, has 5396 samples.\n",
            "Noisy class 6, has 3093 samples.\n",
            "Noisy class 7, has 5835 samples.\n",
            "Noisy class 8, has 5031 samples.\n",
            "Noisy class 9, has 3694 samples.\n",
            "45434\n"
          ]
        }
      ]
    },
    {
      "cell_type": "code",
      "metadata": {
        "colab": {
          "base_uri": "https://localhost:8080/"
        },
        "id": "MEV2FWqietsy",
        "outputId": "f006b0ac-3a7e-4a54-cd5f-e0c20b0712a5"
      },
      "source": [
        "asym_noisy_imbytr = create_noise(imby_tr, noise_ratio = 20, asym = True)"
      ],
      "execution_count": 14,
      "outputs": [
        {
          "output_type": "stream",
          "name": "stdout",
          "text": [
            "Print noisy label generation statistics:\n",
            "Noisy class 0, has 2477 samples.\n",
            "Noisy class 1, has 7793 samples.\n",
            "Noisy class 2, has 2607 samples.\n",
            "Noisy class 3, has 4860 samples.\n",
            "Noisy class 4, has 4513 samples.\n",
            "Noisy class 5, has 4245 samples.\n",
            "Noisy class 6, has 3165 samples.\n",
            "Noisy class 7, has 7049 samples.\n",
            "Noisy class 8, has 4025 samples.\n",
            "Noisy class 9, has 4700 samples.\n",
            "45434\n"
          ]
        }
      ]
    },
    {
      "cell_type": "code",
      "metadata": {
        "colab": {
          "base_uri": "https://localhost:8080/"
        },
        "id": "vzZhegT5etYr",
        "outputId": "7a45256f-2a1f-4915-fb5a-9e4269d0a1ce"
      },
      "source": [
        "sym_noisy_ytr = create_noise(y_train, noise_ratio = 20, asym = False)"
      ],
      "execution_count": 15,
      "outputs": [
        {
          "output_type": "stream",
          "name": "stdout",
          "text": [
            "Print noisy label generation statistics:\n",
            "Noisy class 0, has 5958 samples.\n",
            "Noisy class 1, has 6722 samples.\n",
            "Noisy class 2, has 5967 samples.\n",
            "Noisy class 3, has 6183 samples.\n",
            "Noisy class 4, has 5851 samples.\n",
            "Noisy class 5, has 5396 samples.\n",
            "Noisy class 6, has 5912 samples.\n",
            "Noisy class 7, has 6234 samples.\n",
            "Noisy class 8, has 5835 samples.\n",
            "Noisy class 9, has 5942 samples.\n",
            "60000\n"
          ]
        }
      ]
    },
    {
      "cell_type": "code",
      "metadata": {
        "colab": {
          "base_uri": "https://localhost:8080/"
        },
        "id": "fpVjDM5VesrG",
        "outputId": "2838d9d0-ebb5-4803-9c13-4bcf9aa2811a"
      },
      "source": [
        "asym_noisy_ytr = create_noise(y_train, noise_ratio = 20, asym = True)"
      ],
      "execution_count": 16,
      "outputs": [
        {
          "output_type": "stream",
          "name": "stdout",
          "text": [
            "Print noisy label generation statistics:\n",
            "Noisy class 0, has 5958 samples.\n",
            "Noisy class 1, has 7801 samples.\n",
            "Noisy class 2, has 4774 samples.\n",
            "Noisy class 3, has 4947 samples.\n",
            "Noisy class 4, has 7044 samples.\n",
            "Noisy class 5, has 4809 samples.\n",
            "Noisy class 6, has 5420 samples.\n",
            "Noisy class 7, has 7470 samples.\n",
            "Noisy class 8, has 4668 samples.\n",
            "Noisy class 9, has 7109 samples.\n",
            "60000\n"
          ]
        }
      ]
    },
    {
      "cell_type": "code",
      "metadata": {
        "id": "CzfXzyeMX_qA"
      },
      "source": [
        "x_train = x_train / 255.0\n",
        "x_test = x_test / 255.0\n",
        "\n",
        "imbx_tr = imbx_tr / 255.0"
      ],
      "execution_count": 17,
      "outputs": []
    },
    {
      "cell_type": "code",
      "metadata": {
        "colab": {
          "base_uri": "https://localhost:8080/"
        },
        "id": "CRG804oZY0ld",
        "outputId": "7757a173-ccfa-48d3-ab66-12cdf3133ee5"
      },
      "source": [
        "thetas, classes, costs = fit(x_train, y_train)\n",
        "\n",
        "print(f\"Train Accuracy: {score(classes, thetas, x_train, y_train):.3f}\")\n",
        "print(f\"Test Accuracy: {score(classes, thetas, x_test, y_test):.3f}\")"
      ],
      "execution_count": 28,
      "outputs": [
        {
          "output_type": "stream",
          "name": "stdout",
          "text": [
            "Train Accuracy: 0.623\n",
            "Test Accuracy: 0.856\n"
          ]
        }
      ]
    },
    {
      "cell_type": "code",
      "metadata": {
        "colab": {
          "base_uri": "https://localhost:8080/"
        },
        "id": "hG_1g8DRrSQS",
        "outputId": "2a810f82-aa3e-4ede-9664-b47f3c6dbf1f"
      },
      "source": [
        "scores,pred = score(classes, thetas, x_test, y_test)\n",
        "print(\"Test Accuracy: \",scores)"
      ],
      "execution_count": 52,
      "outputs": [
        {
          "output_type": "stream",
          "name": "stdout",
          "text": [
            "Test Accuracy:  0.8556\n"
          ]
        }
      ]
    },
    {
      "cell_type": "code",
      "metadata": {
        "colab": {
          "base_uri": "https://localhost:8080/"
        },
        "id": "p6_THa_cqxg4",
        "outputId": "4f6aef1c-7fd3-4039-fd28-30cc416fce37"
      },
      "source": [
        "print('Precision: %.3f' % precision_score(y_test, pred, average = 'micro'))"
      ],
      "execution_count": 57,
      "outputs": [
        {
          "output_type": "stream",
          "name": "stdout",
          "text": [
            "Precision: 0.113\n"
          ]
        }
      ]
    },
    {
      "cell_type": "code",
      "metadata": {
        "colab": {
          "base_uri": "https://localhost:8080/"
        },
        "id": "hWgns-nefAkp",
        "outputId": "56adff16-ed17-4487-925b-2df8d139c43e"
      },
      "source": [
        "thetas_sym, classes_sym, costs_sym = fit(x_train, sym_noisy_ytr)\n",
        "\n",
        "print(f\"Train Accuracy: {score(classes_sym, thetas_sym, x_train, sym_noisy_ytr):.3f}\")\n",
        "print(f\"Test Accuracy: {score(classes_sym, thetas_sym, x_test, y):.3f}\")"
      ],
      "execution_count": 29,
      "outputs": [
        {
          "output_type": "stream",
          "name": "stdout",
          "text": [
            "Train Accuracy: 0.623\n",
            "Test Accuracy: 0.856\n"
          ]
        }
      ]
    },
    {
      "cell_type": "code",
      "metadata": {
        "colab": {
          "base_uri": "https://localhost:8080/"
        },
        "id": "IucC080dfAU4",
        "outputId": "5409fae7-b58d-4273-c418-06035455f919"
      },
      "source": [
        "thetas_asym, classes_asym, costs_asym = fit(x_train, asym_noisy_ytr)\n",
        "\n",
        "print(f\"Train Accuracy: {score(classes_asym, thetas_asym, x_train, asym_noisy_ytr):.3f}\")\n",
        "print(f\"Test Accuracy: {score(classes_asym, thetas_asym, x_test, y_test):.3f}\")"
      ],
      "execution_count": 30,
      "outputs": [
        {
          "output_type": "stream",
          "name": "stdout",
          "text": [
            "Train Accuracy: 0.623\n",
            "Test Accuracy: 0.856\n"
          ]
        }
      ]
    },
    {
      "cell_type": "code",
      "metadata": {
        "colab": {
          "base_uri": "https://localhost:8080/"
        },
        "id": "vRULuNZEY6X6",
        "outputId": "96d1c06b-87c4-4b0d-be21-64ae522b4228"
      },
      "source": [
        "thetas_imb, classes_imb, costs_imb = fit(imbx_tr, imby_tr)\n",
        "\n",
        "print(f\"Train Accuracy: {score(classes_imb, thetas_imb, imbx_tr, imby_tr):.3f}\")\n",
        "print(f\"Test Accuracy: {score(classes_imb, thetas_imb, x_test, y_test):.3f}\")"
      ],
      "execution_count": 31,
      "outputs": [
        {
          "output_type": "stream",
          "name": "stdout",
          "text": [
            "Train Accuracy: 0.617\n",
            "Test Accuracy: 0.844\n"
          ]
        }
      ]
    },
    {
      "cell_type": "code",
      "metadata": {
        "colab": {
          "base_uri": "https://localhost:8080/",
          "height": 362
        },
        "id": "YrS9H5Mofgh_",
        "outputId": "db0ecfdf-572d-4fab-cb87-9c81829fa3c3"
      },
      "source": [
        "thetas_imbsym, classes_imbsym, costs_imbsym = fit(imbx_tr, sym_noisy_imbytr)\n",
        "\n",
        "print(f\"Train Accuracy: {score(classes_imbsym, thetas_imbsym, imbx_tr, sym_noisy_imbytr):.3f}\")\n",
        "print(f\"Test Accuracy: {score(classes_imbsym, thetas_imbsym, x_test, y_test):.3f}\")"
      ],
      "execution_count": 32,
      "outputs": [
        {
          "output_type": "error",
          "ename": "KeyboardInterrupt",
          "evalue": "ignored",
          "traceback": [
            "\u001b[0;31m---------------------------------------------------------------------------\u001b[0m",
            "\u001b[0;31mKeyboardInterrupt\u001b[0m                         Traceback (most recent call last)",
            "\u001b[0;32m<ipython-input-32-42b403476d28>\u001b[0m in \u001b[0;36m<module>\u001b[0;34m()\u001b[0m\n\u001b[0;32m----> 1\u001b[0;31m \u001b[0mthetas_imbsym\u001b[0m\u001b[0;34m,\u001b[0m \u001b[0mclasses_imbsym\u001b[0m\u001b[0;34m,\u001b[0m \u001b[0mcosts_imbsym\u001b[0m \u001b[0;34m=\u001b[0m \u001b[0mfit\u001b[0m\u001b[0;34m(\u001b[0m\u001b[0mimbx_tr\u001b[0m\u001b[0;34m,\u001b[0m \u001b[0msym_noisy_imbytr\u001b[0m\u001b[0;34m)\u001b[0m\u001b[0;34m\u001b[0m\u001b[0;34m\u001b[0m\u001b[0m\n\u001b[0m\u001b[1;32m      2\u001b[0m \u001b[0;34m\u001b[0m\u001b[0m\n\u001b[1;32m      3\u001b[0m \u001b[0mprint\u001b[0m\u001b[0;34m(\u001b[0m\u001b[0;34mf\"Train Accuracy: {score(classes_imbsym, thetas_imbsym, imbx_tr, sym_noisy_imbytr):.3f}\"\u001b[0m\u001b[0;34m)\u001b[0m\u001b[0;34m\u001b[0m\u001b[0;34m\u001b[0m\u001b[0m\n\u001b[1;32m      4\u001b[0m \u001b[0mprint\u001b[0m\u001b[0;34m(\u001b[0m\u001b[0;34mf\"Test Accuracy: {score(classes_imbsym, thetas_imbsym, x_test, y_test):.3f}\"\u001b[0m\u001b[0;34m)\u001b[0m\u001b[0;34m\u001b[0m\u001b[0;34m\u001b[0m\u001b[0m\n",
            "\u001b[0;32m<ipython-input-27-fa3b5c5741b3>\u001b[0m in \u001b[0;36mfit\u001b[0;34m(x, y, itr, alpha)\u001b[0m\n\u001b[1;32m     10\u001b[0m \u001b[0;34m\u001b[0m\u001b[0m\n\u001b[1;32m     11\u001b[0m     \u001b[0;32mfor\u001b[0m \u001b[0mepoch\u001b[0m \u001b[0;32min\u001b[0m \u001b[0mrange\u001b[0m\u001b[0;34m(\u001b[0m\u001b[0mitr\u001b[0m\u001b[0;34m)\u001b[0m\u001b[0;34m:\u001b[0m\u001b[0;34m\u001b[0m\u001b[0;34m\u001b[0m\u001b[0m\n\u001b[0;32m---> 12\u001b[0;31m       \u001b[0mcosts\u001b[0m\u001b[0;34m[\u001b[0m\u001b[0mepoch\u001b[0m\u001b[0;34m]\u001b[0m\u001b[0;34m,\u001b[0m \u001b[0mgrad\u001b[0m \u001b[0;34m=\u001b[0m \u001b[0mcost\u001b[0m\u001b[0;34m(\u001b[0m\u001b[0mtheta\u001b[0m\u001b[0;34m,\u001b[0m \u001b[0mx\u001b[0m\u001b[0;34m,\u001b[0m \u001b[0mbin_y\u001b[0m\u001b[0;34m)\u001b[0m\u001b[0;34m\u001b[0m\u001b[0;34m\u001b[0m\u001b[0m\n\u001b[0m\u001b[1;32m     13\u001b[0m       \u001b[0mtheta\u001b[0m \u001b[0;34m+=\u001b[0m \u001b[0malpha\u001b[0m \u001b[0;34m*\u001b[0m \u001b[0mgrad\u001b[0m\u001b[0;34m\u001b[0m\u001b[0;34m\u001b[0m\u001b[0m\n\u001b[1;32m     14\u001b[0m \u001b[0;34m\u001b[0m\u001b[0m\n",
            "\u001b[0;32m<ipython-input-3-685bcad77c93>\u001b[0m in \u001b[0;36mcost\u001b[0;34m(theta, x, y)\u001b[0m\n\u001b[1;32m      1\u001b[0m \u001b[0;32mdef\u001b[0m \u001b[0mcost\u001b[0m\u001b[0;34m(\u001b[0m\u001b[0mtheta\u001b[0m\u001b[0;34m,\u001b[0m \u001b[0mx\u001b[0m\u001b[0;34m,\u001b[0m \u001b[0my\u001b[0m\u001b[0;34m)\u001b[0m\u001b[0;34m:\u001b[0m\u001b[0;34m\u001b[0m\u001b[0;34m\u001b[0m\u001b[0m\n\u001b[0;32m----> 2\u001b[0;31m   \u001b[0mh\u001b[0m \u001b[0;34m=\u001b[0m \u001b[0msigmoid\u001b[0m\u001b[0;34m(\u001b[0m\u001b[0mx\u001b[0m \u001b[0;34m@\u001b[0m \u001b[0mtheta\u001b[0m\u001b[0;34m)\u001b[0m\u001b[0;34m\u001b[0m\u001b[0;34m\u001b[0m\u001b[0m\n\u001b[0m\u001b[1;32m      3\u001b[0m   \u001b[0mm\u001b[0m \u001b[0;34m=\u001b[0m \u001b[0mlen\u001b[0m\u001b[0;34m(\u001b[0m\u001b[0my\u001b[0m\u001b[0;34m)\u001b[0m\u001b[0;34m\u001b[0m\u001b[0;34m\u001b[0m\u001b[0m\n\u001b[1;32m      4\u001b[0m   \u001b[0mcost\u001b[0m \u001b[0;34m=\u001b[0m \u001b[0;36m1\u001b[0m \u001b[0;34m/\u001b[0m \u001b[0mm\u001b[0m \u001b[0;34m*\u001b[0m \u001b[0mnp\u001b[0m\u001b[0;34m.\u001b[0m\u001b[0msum\u001b[0m\u001b[0;34m(\u001b[0m \u001b[0;34m-\u001b[0m\u001b[0my\u001b[0m \u001b[0;34m*\u001b[0m \u001b[0mnp\u001b[0m\u001b[0;34m.\u001b[0m\u001b[0mlog\u001b[0m\u001b[0;34m(\u001b[0m\u001b[0mh\u001b[0m\u001b[0;34m)\u001b[0m \u001b[0;34m-\u001b[0m \u001b[0;34m(\u001b[0m\u001b[0;36m1\u001b[0m \u001b[0;34m-\u001b[0m \u001b[0my\u001b[0m\u001b[0;34m)\u001b[0m \u001b[0;34m*\u001b[0m \u001b[0mnp\u001b[0m\u001b[0;34m.\u001b[0m\u001b[0mlog\u001b[0m\u001b[0;34m(\u001b[0m\u001b[0;36m1\u001b[0m \u001b[0;34m-\u001b[0m \u001b[0mh\u001b[0m\u001b[0;34m)\u001b[0m\u001b[0;34m)\u001b[0m\u001b[0;34m\u001b[0m\u001b[0;34m\u001b[0m\u001b[0m\n\u001b[1;32m      5\u001b[0m   \u001b[0mgrad\u001b[0m \u001b[0;34m=\u001b[0m \u001b[0;36m1\u001b[0m \u001b[0;34m/\u001b[0m \u001b[0mm\u001b[0m \u001b[0;34m*\u001b[0m \u001b[0;34m(\u001b[0m\u001b[0;34m(\u001b[0m\u001b[0my\u001b[0m \u001b[0;34m-\u001b[0m \u001b[0mh\u001b[0m\u001b[0;34m)\u001b[0m \u001b[0;34m@\u001b[0m \u001b[0mx\u001b[0m\u001b[0;34m)\u001b[0m\u001b[0;34m\u001b[0m\u001b[0;34m\u001b[0m\u001b[0m\n",
            "\u001b[0;31mKeyboardInterrupt\u001b[0m: "
          ]
        }
      ]
    },
    {
      "cell_type": "code",
      "metadata": {
        "id": "RDePyHpBfgYv"
      },
      "source": [
        "thetas_imbasym, classes_imbasym, costs_imbasym = fit(imbx_tr, asym_noisy_imbytr)\n",
        "\n",
        "print(f\"Train Accuracy: {score(classes_imbasym, thetas_imbasym, imbx_tr, asym_noisy_imbytr):.3f}\")\n",
        "print(f\"Test Accuracy: {score(classes_imbasym, thetas_imbasym, x_test, y_test):.3f}\")"
      ],
      "execution_count": null,
      "outputs": []
    },
    {
      "cell_type": "code",
      "metadata": {
        "colab": {
          "base_uri": "https://localhost:8080/",
          "height": 130
        },
        "id": "S2H6uyHKZsUo",
        "outputId": "77c0dcf5-fb1b-4d66-e698-59cd80e21d0c"
      },
      "source": [
        "0.829 0.840 -> 50 0.1\n",
        "0.850 0.858 -> 100 0.1\n",
        "0.871 0.878 -> 100 0.25 original\n",
        "\n",
        "0.147 0.114 -> 50 0.1\n",
        "0.867 0.871 -> 100 0.25 imb \n",
        "0.843 0.846 -> 100 0.1 \n"
      ],
      "execution_count": 26,
      "outputs": [
        {
          "output_type": "error",
          "ename": "SyntaxError",
          "evalue": "ignored",
          "traceback": [
            "\u001b[0;36m  File \u001b[0;32m\"<ipython-input-26-47155139c9ee>\"\u001b[0;36m, line \u001b[0;32m1\u001b[0m\n\u001b[0;31m    0.829 0.840 -> 50 0.1\u001b[0m\n\u001b[0m              ^\u001b[0m\n\u001b[0;31mSyntaxError\u001b[0m\u001b[0;31m:\u001b[0m invalid syntax\n"
          ]
        }
      ]
    }
  ]
}