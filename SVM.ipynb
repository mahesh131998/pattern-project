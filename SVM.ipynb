{
 "cells": [
  {
   "cell_type": "code",
   "execution_count": 1,
   "metadata": {},
   "outputs": [],
   "source": [
    "import math, time \n",
    "import matplotlib.pyplot as plt\n",
    "import numpy as np \n",
    "import pandas as pd\n",
    "import seaborn as sns\n",
    "start = time.time()\n",
    "from sklearn.datasets import fetch_openml\n",
    "from sklearn.model_selection import train_test_split\n",
    "from sklearn.svm import SVC\n",
    "from sklearn.preprocessing import StandardScaler\n",
    "from sklearn.pipeline import Pipeline\n",
    "from sklearn.model_selection import GridSearchCV\n",
    "from sklearn.metrics import accuracy_score, confusion_matrix, precision_score, recall_score, roc_auc_score\n",
    "from imblearn.datasets import make_imbalance\n",
    "# from keras.utils import to_categorical\n",
    "# import keras\n"
   ]
  },
  {
   "cell_type": "code",
   "execution_count": null,
   "metadata": {},
   "outputs": [],
   "source": [
    "imbalance = False\n",
    "add_noise = False\n",
    "noise_ratio = 20\n",
    "asym_noise = False"
   ]
  },
  {
   "cell_type": "code",
   "execution_count": 2,
   "metadata": {},
   "outputs": [],
   "source": [
    "mnist_dataset = fetch_openml('mnist_784', version=1, as_frame=True)\n",
    "# mnist_dataframe = pd.read_csv('/Users/shriramr/OneDrive - University at Buffalo/First Semester/Pattern Recognition/Demo Code/Extras/mnist_train_small.csv', sep=',', index_col=0)\n",
    "#print mnist_dataframe.head(3)\n",
    "# print(mnist_dataframe.shape)"
   ]
  },
  {
   "cell_type": "code",
   "execution_count": 3,
   "metadata": {},
   "outputs": [],
   "source": [
    "mnist_dataframe = pd.DataFrame(data= np.c_[mnist_dataset['data'], mnist_dataset['target']],\n",
    "                     columns= mnist_dataset['feature_names'] + ['target'])"
   ]
  },
  {
   "cell_type": "code",
   "execution_count": 4,
   "metadata": {},
   "outputs": [
    {
     "name": "stdout",
     "output_type": "stream",
     "text": [
      "(70000, 785)\n"
     ]
    }
   ],
   "source": [
    "print(mnist_dataframe.shape)"
   ]
  },
  {
   "cell_type": "code",
   "execution_count": 5,
   "metadata": {},
   "outputs": [],
   "source": [
    "def noise_helper(n_classes, current_class):\n",
    "    if current_class < 0 or current_class >= n_classes:\n",
    "        error_str = \"class_ind must be within the range (0, nb_classes - 1)\"\n",
    "        raise ValueError(error_str)\n",
    "\n",
    "    other_class_list = list(range(n_classes))\n",
    "    other_class_list.remove(current_class)\n",
    "    other_class = np.random.choice(other_class_list)\n",
    "    return other_class\n",
    "\n",
    "def create_noise(y_tr, noise_ratio, asym = False):\n",
    "    if noise_ratio > 0:\n",
    "        dataset = 'mnist'\n",
    "        print(y_tr)\n",
    "        noisy_y_tr = np.array(y_tr, copy=True)\n",
    "        if asym:\n",
    "            if dataset == 'mnist':\n",
    "                # 1 < - 5, 2 -> 4, 3 -> 7, 5 <-> 6, 8 -> 9\n",
    "                source_class = [5, 2, 3, 5, 6, 8]\n",
    "                target_class = [1, 4, 7, 6, 5, 9]\n",
    "            if dataset == 'mnist' :\n",
    "                for s, t in zip(source_class, target_class):\n",
    "                    cls_idx = np.where(y_tr == s)[0]\n",
    "                    n_noisy = int(noise_ratio * cls_idx.shape[0] / 100)\n",
    "                    noisy_sample_index = np.random.choice(cls_idx, n_noisy, replace=False)\n",
    "                    noisy_y_tr[noisy_sample_index] = t\n",
    "        else:\n",
    "            n_samples = noisy_y_tr.shape[0]\n",
    "            n_noisy = int(noise_ratio * n_samples / 100)\n",
    "            class_index = [np.where(y_tr == i)[0] for i in range(10)]\n",
    "            class_noisy = int(n_noisy / 10)\n",
    "\n",
    "            noisy_idx = []\n",
    "            for d in range(10):\n",
    "                noisy_class_index = np.random.choice(class_index[d], class_noisy, replace=False)\n",
    "                noisy_idx.extend(noisy_class_index)\n",
    "\n",
    "            for i in noisy_idx:\n",
    "                noisy_y_tr[i] = noise_helper(n_classes=10, current_class=y_tr[i])\n",
    "\n",
    "        print(\"Print noisy label generation statistics:\")\n",
    "        count = 0\n",
    "        for i in range(10):\n",
    "                n_noisy = np.sum(noisy_y_tr == i)\n",
    "                print(\"Noisy class %s, has %s samples.\" % (i, n_noisy))\n",
    "                count += n_noisy\n",
    "        print(count)\n",
    "        return noisy_y_tr"
   ]
  },
  {
   "cell_type": "code",
   "execution_count": 26,
   "metadata": {},
   "outputs": [
    {
     "name": "stderr",
     "output_type": "stream",
     "text": [
      "/Users/shriramr/opt/anaconda3/lib/python3.8/site-packages/seaborn/_decorators.py:36: FutureWarning: Pass the following variable as a keyword arg: x. From version 0.12, the only valid positional argument will be `data`, and passing other arguments without an explicit keyword will result in an error or misinterpretation.\n",
      "  warnings.warn(\n"
     ]
    },
    {
     "data": {
      "image/png": "[encoded data removed]",
      "text/plain": [
       "<Figure size 432x288 with 1 Axes>"
      ]
     },
     "metadata": {
      "needs_background": "light"
     },
     "output_type": "display_data"
    },
    {
     "name": "stdout",
     "output_type": "stream",
     "text": [
      "1    7877\n",
      "7    7293\n",
      "3    7141\n",
      "2    6990\n",
      "9    6958\n",
      "0    6903\n",
      "6    6876\n",
      "8    6825\n",
      "4    6824\n",
      "5    6313\n",
      "Name: target, dtype: int64\n"
     ]
    },
    {
     "data": {
      "text/plain": [
       "pandas.core.series.Series"
      ]
     },
     "execution_count": 26,
     "metadata": {},
     "output_type": "execute_result"
    }
   ],
   "source": [
    "sns.countplot(mnist_dataframe['target'])\n",
    "plt.show()# looks kinda okay\n",
    "# or we can just print\n",
    "print(mnist_dataframe['target'].value_counts())\n",
    "type(mnist_dataframe['target'])"
   ]
  },
  {
   "cell_type": "code",
   "execution_count": 39,
   "metadata": {},
   "outputs": [],
   "source": [
    "steps = [('scaler', StandardScaler()), ('SVM', SVC(kernel='poly'))]\n",
    "parameters = {'SVM__C':[0.001], 'SVM__gamma':[10]}\n",
    "pipeline = Pipeline(steps) # define Pipeline object"
   ]
  },
  {
   "cell_type": "code",
   "execution_count": 50,
   "metadata": {},
   "outputs": [
    {
     "name": "stdout",
     "output_type": "stream",
     "text": [
      "Pure dataset\n"
     ]
    },
    {
     "name": "stderr",
     "output_type": "stream",
     "text": [
      "/Users/shriramr/opt/anaconda3/lib/python3.8/site-packages/seaborn/_decorators.py:36: FutureWarning: Pass the following variable as a keyword arg: x. From version 0.12, the only valid positional argument will be `data`, and passing other arguments without an explicit keyword will result in an error or misinterpretation.\n",
      "  warnings.warn(\n"
     ]
    },
    {
     "data": {
      "image/png": "[encoded data removed]",
      "text/plain": [
       "<Figure size 432x288 with 1 Axes>"
      ]
     },
     "metadata": {
      "needs_background": "light"
     },
     "output_type": "display_data"
    },
    {
     "name": "stdout",
     "output_type": "stream",
     "text": [
      "1    6752\n",
      "7    6251\n",
      "3    6121\n",
      "2    5991\n",
      "9    5964\n",
      "0    5917\n",
      "6    5894\n",
      "8    5850\n",
      "4    5849\n",
      "5    5411\n",
      "dtype: int64\n",
      "Dataset after imbalance\n"
     ]
    },
    {
     "name": "stderr",
     "output_type": "stream",
     "text": [
      "/Users/shriramr/opt/anaconda3/lib/python3.8/site-packages/seaborn/_decorators.py:36: FutureWarning: Pass the following variable as a keyword arg: x. From version 0.12, the only valid positional argument will be `data`, and passing other arguments without an explicit keyword will result in an error or misinterpretation.\n",
      "  warnings.warn(\n"
     ]
    },
    {
     "data": {
      "image/png": "[encoded data removed]",
      "text/plain": [
       "<Figure size 432x288 with 1 Axes>"
      ]
     },
     "metadata": {
      "needs_background": "light"
     },
     "output_type": "display_data"
    },
    {
     "name": "stdout",
     "output_type": "stream",
     "text": [
      "1    6675\n",
      "3    6100\n",
      "7    5860\n",
      "5    5400\n",
      "8    5000\n",
      "4    3850\n",
      "9    3654\n",
      "2    3280\n",
      "6    3065\n",
      "0    2550\n",
      "dtype: int64\n"
     ]
    }
   ],
   "source": [
    "X_tr = mnist_dataframe.iloc[:,:-1] # iloc ensures X_tr will be a dataframe\n",
    "y_tr = mnist_dataframe.iloc[:, -1]\n",
    "X_train, X_test, y_train, y_test = train_test_split(X_tr, y_tr, test_size=10000, stratify=y_tr)\n",
    "targets_np = np.array(y_train, dtype=np.int64)\n",
    "data_np = np.array(X_train, dtype=np.float64)\n",
    "classes = np.unique(targets_np)\n",
    "\n",
    "print(\"Pure dataset\")\n",
    "test_tuple = pd.DataFrame(targets_np)\n",
    "sns.countplot(test_tuple[0])\n",
    "plt.title(\"Pure dataset\")\n",
    "plt.show()\n",
    "print(test_tuple.value_counts())\n",
    "\n",
    "if imbalance:\n",
    "    data_np = data_np.reshape(-1,784,)\n",
    "    X_train, y_train = make_imbalance(data_np, targets_np,\n",
    "                                sampling_strategy={0: 2550, 1: 6675, 2: 3280, 3: 6100, 4: 3850, 5: 5400, 6: 3065, 7: 5860, 8: 5000, 9: 3654,},\n",
    "                                random_state=42)\n",
    "    targets_np = np.array(y_train, dtype=np.int64)                    \n",
    "    print(\"Dataset after imbalance\")\n",
    "    test_tuple = pd.DataFrame(targets_np)\n",
    "    sns.countplot(test_tuple[0])\n",
    "    plt.title(\"Dataset after imbalance\")\n",
    "    plt.show()\n",
    "    print(test_tuple.value_counts())\n",
    "\n",
    "if add_noise:\n",
    "    y_train = create_noise(y_tr=targets_np, noise_ratio=noise_ratio, asym=asym_noise)\n",
    "    targets_np = np.array(y_train, dtype=np.int64)\n",
    "    print(\"Dataset after adding noise\")\n",
    "    test_tuple = pd.DataFrame(targets_np)\n",
    "    sns.countplot(test_tuple[0])\n",
    "    plt.title(\"Dataset after adding noise\")\n",
    "    plt.show()\n",
    "    print(test_tuple.value_counts())\n",
    "\n",
    "# X_train = X_train[:40000]\n",
    "# y_train = y_train[:40000]\n"
   ]
  },
  {
   "cell_type": "code",
   "execution_count": null,
   "metadata": {},
   "outputs": [
    {
     "data": {
      "text/plain": [
       "GridSearchCV(cv=5,\n",
       "             estimator=Pipeline(steps=[('scaler', StandardScaler()),\n",
       "                                       ('SVM', SVC(kernel='poly'))]),\n",
       "             param_grid={'SVM__C': [0.001], 'SVM__gamma': [10]})"
      ]
     },
     "execution_count": 55,
     "metadata": {},
     "output_type": "execute_result"
    }
   ],
   "source": [
    "grid = GridSearchCV(pipeline, param_grid=parameters, cv=5)\n",
    "grid.fit(X_train, y_train)"
   ]
  },
  {
   "cell_type": "code",
   "execution_count": null,
   "metadata": {},
   "outputs": [
    {
     "name": "stdout",
     "output_type": "stream",
     "text": [
      "Score = 0.88\n"
     ]
    }
   ],
   "source": [
    "print(\"Score = %3.2f\"%(grid.score(X_test, y_test)))"
   ]
  },
  {
   "cell_type": "code",
   "execution_count": null,
   "metadata": {},
   "outputs": [
    {
     "name": "stdout",
     "output_type": "stream",
     "text": [
      "best parameters from train data:  {'SVM__C': 0.001, 'SVM__gamma': 10}\n"
     ]
    }
   ],
   "source": [
    "print(\"best parameters from train data: \", grid.best_params_)"
   ]
  },
  {
   "cell_type": "code",
   "execution_count": null,
   "metadata": {},
   "outputs": [],
   "source": [
    "y_pred = grid.predict(X_test)"
   ]
  },
  {
   "cell_type": "code",
   "execution_count": null,
   "metadata": {},
   "outputs": [
    {
     "data": {
      "image/png": "[encoded data removed]",
      "text/plain": [
       "<Figure size 432x288 with 1 Axes>"
      ]
     },
     "metadata": {
      "needs_background": "light"
     },
     "output_type": "display_data"
    },
    {
     "data": {
      "image/png": "[encoded data removed]",
      "text/plain": [
       "<Figure size 432x288 with 1 Axes>"
      ]
     },
     "metadata": {
      "needs_background": "light"
     },
     "output_type": "display_data"
    },
    {
     "data": {
      "image/png": "[encoded data removed]",
      "text/plain": [
       "<Figure size 432x288 with 1 Axes>"
      ]
     },
     "metadata": {
      "needs_background": "light"
     },
     "output_type": "display_data"
    },
    {
     "data": {
      "image/png": "[encoded data removed]",
      "text/plain": [
       "<Figure size 432x288 with 1 Axes>"
      ]
     },
     "metadata": {
      "needs_background": "light"
     },
     "output_type": "display_data"
    },
    {
     "data": {
      "image/png": "[encoded data removed]",
      "text/plain": [
       "<Figure size 432x288 with 1 Axes>"
      ]
     },
     "metadata": {
      "needs_background": "light"
     },
     "output_type": "display_data"
    },
    {
     "data": {
      "image/png": "[encoded data removed]",
      "text/plain": [
       "<Figure size 432x288 with 1 Axes>"
      ]
     },
     "metadata": {
      "needs_background": "light"
     },
     "output_type": "display_data"
    }
   ],
   "source": [
    "for i in (np.random.randint(0,270,6)):\n",
    "\ttwo_d = (np.reshape(X_test.values[i], (28, 28)) * 255).astype(np.uint8)\n",
    "\tplt.title('predicted label: {0}'. format(y_pred[i]))\n",
    "\tplt.imshow(two_d, interpolation='nearest', cmap='gray')\n",
    "\tplt.show()"
   ]
  },
  {
   "cell_type": "code",
   "execution_count": null,
   "metadata": {},
   "outputs": [
    {
     "name": "stdout",
     "output_type": "stream",
     "text": [
      "confusion matrix: \n",
      "  [[ 966    2    0    4    0    3    3    1    7    0]\n",
      " [   0 1115    3    1    0    1    0    2    3    0]\n",
      " [   5    4  963    2    4    3    3    8    7    0]\n",
      " [   0    0    2  994    0    8    0    6   10    0]\n",
      " [   2    2    2    0  956    3    6    3    1    0]\n",
      " [   1    0    4    7    0  886    2    0    2    0]\n",
      " [   1    2    1    2    4    8  960    1    3    0]\n",
      " [   0    4    3    0    3    0    0 1030    2    0]\n",
      " [   3    2    5    6    3   10    0    3  943    0]\n",
      " [   5    2    9   37  521   10    1  382   27    0]]\n",
      "Accuracy of the balanced dataset with symmetric noise is \n",
      " 0.8813\n",
      "Precision of the balanced dataset with symmetric noise is \n",
      " [0.982706   0.98411297 0.97076613 0.94396961 0.64118042 0.95064378\n",
      " 0.98461538 0.71727019 0.93830846 0.        ]\n",
      "Recall of the balanced dataset with symmetric noise is  [0.97971602 0.99111111 0.96396396 0.9745098  0.98051282 0.98226164\n",
      " 0.97759674 0.98848369 0.96717949 0.        ]\n"
     ]
    },
    {
     "name": "stderr",
     "output_type": "stream",
     "text": [
      "/Users/shriramr/opt/anaconda3/lib/python3.8/site-packages/sklearn/metrics/_classification.py:1245: UndefinedMetricWarning: Precision is ill-defined and being set to 0.0 in labels with no predicted samples. Use `zero_division` parameter to control this behavior.\n",
      "  _warn_prf(average, modifier, msg_start, len(result))\n"
     ]
    },
    {
     "ename": "NameError",
     "evalue": "name 'to_categorical' is not defined",
     "output_type": "error",
     "traceback": [
      "\u001b[0;31m---------------------------------------------------------------------------\u001b[0m",
      "\u001b[0;31mNameError\u001b[0m                                 Traceback (most recent call last)",
      "\u001b[0;32m<ipython-input-60-96131512cb7a>\u001b[0m in \u001b[0;36m<module>\u001b[0;34m\u001b[0m\n\u001b[1;32m      7\u001b[0m \u001b[0mprint\u001b[0m\u001b[0;34m(\u001b[0m\u001b[0;34m\"Precision of the balanced dataset with symmetric noise is \\n\"\u001b[0m\u001b[0;34m,\u001b[0m \u001b[0mprecision_score\u001b[0m\u001b[0;34m(\u001b[0m\u001b[0my_test\u001b[0m\u001b[0;34m,\u001b[0m \u001b[0my_pred\u001b[0m\u001b[0;34m,\u001b[0m \u001b[0maverage\u001b[0m \u001b[0;34m=\u001b[0m \u001b[0;32mNone\u001b[0m\u001b[0;34m)\u001b[0m\u001b[0;34m)\u001b[0m\u001b[0;34m\u001b[0m\u001b[0;34m\u001b[0m\u001b[0m\n\u001b[1;32m      8\u001b[0m \u001b[0mprint\u001b[0m\u001b[0;34m(\u001b[0m\u001b[0;34m\"Recall of the balanced dataset with symmetric noise is \"\u001b[0m\u001b[0;34m,\u001b[0m \u001b[0mrecall_score\u001b[0m\u001b[0;34m(\u001b[0m\u001b[0my_test\u001b[0m\u001b[0;34m,\u001b[0m \u001b[0my_pred\u001b[0m\u001b[0;34m,\u001b[0m \u001b[0maverage\u001b[0m \u001b[0;34m=\u001b[0m \u001b[0;32mNone\u001b[0m\u001b[0;34m)\u001b[0m\u001b[0;34m)\u001b[0m\u001b[0;34m\u001b[0m\u001b[0;34m\u001b[0m\u001b[0m\n\u001b[0;32m----> 9\u001b[0;31m \u001b[0mcat_ypred\u001b[0m \u001b[0;34m=\u001b[0m \u001b[0mto_categorical\u001b[0m\u001b[0;34m(\u001b[0m\u001b[0my_pred\u001b[0m\u001b[0;34m,\u001b[0m \u001b[0;36m10\u001b[0m\u001b[0;34m)\u001b[0m\u001b[0;34m\u001b[0m\u001b[0;34m\u001b[0m\u001b[0m\n\u001b[0m\u001b[1;32m     10\u001b[0m \u001b[0mprint\u001b[0m\u001b[0;34m(\u001b[0m\u001b[0;34m\"ROC AUC score of the balanced dataset with symmetric noise is \\n\"\u001b[0m\u001b[0;34m,\u001b[0m \u001b[0mroc_auc_score\u001b[0m\u001b[0;34m(\u001b[0m\u001b[0my_test\u001b[0m\u001b[0;34m,\u001b[0m \u001b[0mcat_ypred\u001b[0m\u001b[0;34m,\u001b[0m \u001b[0mmulti_class\u001b[0m\u001b[0;34m=\u001b[0m\u001b[0;34m'ovr'\u001b[0m\u001b[0;34m)\u001b[0m\u001b[0;34m)\u001b[0m\u001b[0;34m\u001b[0m\u001b[0;34m\u001b[0m\u001b[0m\n",
      "\u001b[0;31mNameError\u001b[0m: name 'to_categorical' is not defined"
     ]
    }
   ],
   "source": [
    "y_test = np.int32(y_test)\n",
    "y_pred = np.int32(y_pred)\n",
    "print(\"confusion matrix: \\n \", confusion_matrix(y_test, y_pred))\n",
    "# print(y_test)\n",
    "# print(y_pred)\n",
    "print(\"Accuracy of the balanced dataset with symmetric noise is \\n\", accuracy_score(y_test, y_pred))\n",
    "print(\"Precision of the balanced dataset with symmetric noise is \\n\", precision_score(y_test, y_pred, average = None))\n",
    "print(\"Recall of the balanced dataset with symmetric noise is \", recall_score(y_test, y_pred, average = None))\n",
    "cat_ypred = to_categorical(y_pred, 10)\n",
    "print(\"ROC AUC score of the balanced dataset with symmetric noise is \\n\", roc_auc_score(y_test, cat_ypred, multi_class='ovr'))"
   ]
  }
 ],
 "metadata": {
  "interpreter": {
   "hash": "c730a4a71ddabbd4b6c6e51154f12624a27ef0d36653c184c00e929e9cb97b34"
  },
  "kernelspec": {
   "display_name": "Python 3.8.8 64-bit ('base': conda)",
   "language": "python",
   "name": "python3"
  },
  "language_info": {
   "codemirror_mode": {
    "name": "ipython",
    "version": 3
   },
   "file_extension": ".py",
   "mimetype": "text/x-python",
   "name": "python",
   "nbconvert_exporter": "python",
   "pygments_lexer": "ipython3",
   "version": "3.8.8"
  },
  "orig_nbformat": 4
 },
 "nbformat": 4,
 "nbformat_minor": 2
}
